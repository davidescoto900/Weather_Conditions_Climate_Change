{
 "cells": [
  {
   "cell_type": "code",
   "execution_count": 1,
   "id": "fd76593e-d09b-4343-ae97-ceb934fcf629",
   "metadata": {},
   "outputs": [
    {
     "name": "stdout",
     "output_type": "stream",
     "text": [
      "Requirement already satisfied: tensorflow in c:\\users\\holly\\anaconda3\\lib\\site-packages (2.19.0)\n",
      "Requirement already satisfied: absl-py>=1.0.0 in c:\\users\\holly\\anaconda3\\lib\\site-packages (from tensorflow) (2.3.1)\n",
      "Requirement already satisfied: astunparse>=1.6.0 in c:\\users\\holly\\anaconda3\\lib\\site-packages (from tensorflow) (1.6.3)\n",
      "Requirement already satisfied: flatbuffers>=24.3.25 in c:\\users\\holly\\anaconda3\\lib\\site-packages (from tensorflow) (25.2.10)\n",
      "Requirement already satisfied: gast!=0.5.0,!=0.5.1,!=0.5.2,>=0.2.1 in c:\\users\\holly\\anaconda3\\lib\\site-packages (from tensorflow) (0.6.0)\n",
      "Requirement already satisfied: google-pasta>=0.1.1 in c:\\users\\holly\\anaconda3\\lib\\site-packages (from tensorflow) (0.2.0)\n",
      "Requirement already satisfied: libclang>=13.0.0 in c:\\users\\holly\\anaconda3\\lib\\site-packages (from tensorflow) (18.1.1)\n",
      "Requirement already satisfied: opt-einsum>=2.3.2 in c:\\users\\holly\\anaconda3\\lib\\site-packages (from tensorflow) (3.4.0)\n",
      "Requirement already satisfied: packaging in c:\\users\\holly\\anaconda3\\lib\\site-packages (from tensorflow) (24.1)\n",
      "Requirement already satisfied: protobuf!=4.21.0,!=4.21.1,!=4.21.2,!=4.21.3,!=4.21.4,!=4.21.5,<6.0.0dev,>=3.20.3 in c:\\users\\holly\\anaconda3\\lib\\site-packages (from tensorflow) (4.25.3)\n",
      "Requirement already satisfied: requests<3,>=2.21.0 in c:\\users\\holly\\anaconda3\\lib\\site-packages (from tensorflow) (2.32.3)\n",
      "Requirement already satisfied: setuptools in c:\\users\\holly\\anaconda3\\lib\\site-packages (from tensorflow) (75.1.0)\n",
      "Requirement already satisfied: six>=1.12.0 in c:\\users\\holly\\anaconda3\\lib\\site-packages (from tensorflow) (1.16.0)\n",
      "Requirement already satisfied: termcolor>=1.1.0 in c:\\users\\holly\\anaconda3\\lib\\site-packages (from tensorflow) (3.1.0)\n",
      "Requirement already satisfied: typing-extensions>=3.6.6 in c:\\users\\holly\\anaconda3\\lib\\site-packages (from tensorflow) (4.11.0)\n",
      "Requirement already satisfied: wrapt>=1.11.0 in c:\\users\\holly\\anaconda3\\lib\\site-packages (from tensorflow) (1.14.1)\n",
      "Requirement already satisfied: grpcio<2.0,>=1.24.3 in c:\\users\\holly\\anaconda3\\lib\\site-packages (from tensorflow) (1.74.0)\n",
      "Requirement already satisfied: tensorboard~=2.19.0 in c:\\users\\holly\\anaconda3\\lib\\site-packages (from tensorflow) (2.19.0)\n",
      "Requirement already satisfied: keras>=3.5.0 in c:\\users\\holly\\anaconda3\\lib\\site-packages (from tensorflow) (3.11.1)\n",
      "Requirement already satisfied: numpy<2.2.0,>=1.26.0 in c:\\users\\holly\\anaconda3\\lib\\site-packages (from tensorflow) (1.26.4)\n",
      "Requirement already satisfied: h5py>=3.11.0 in c:\\users\\holly\\anaconda3\\lib\\site-packages (from tensorflow) (3.11.0)\n",
      "Requirement already satisfied: ml-dtypes<1.0.0,>=0.5.1 in c:\\users\\holly\\anaconda3\\lib\\site-packages (from tensorflow) (0.5.3)\n",
      "Requirement already satisfied: wheel<1.0,>=0.23.0 in c:\\users\\holly\\anaconda3\\lib\\site-packages (from astunparse>=1.6.0->tensorflow) (0.44.0)\n",
      "Requirement already satisfied: rich in c:\\users\\holly\\anaconda3\\lib\\site-packages (from keras>=3.5.0->tensorflow) (13.7.1)\n",
      "Requirement already satisfied: namex in c:\\users\\holly\\anaconda3\\lib\\site-packages (from keras>=3.5.0->tensorflow) (0.1.0)\n",
      "Requirement already satisfied: optree in c:\\users\\holly\\anaconda3\\lib\\site-packages (from keras>=3.5.0->tensorflow) (0.17.0)\n",
      "Requirement already satisfied: charset-normalizer<4,>=2 in c:\\users\\holly\\anaconda3\\lib\\site-packages (from requests<3,>=2.21.0->tensorflow) (3.3.2)\n",
      "Requirement already satisfied: idna<4,>=2.5 in c:\\users\\holly\\anaconda3\\lib\\site-packages (from requests<3,>=2.21.0->tensorflow) (3.7)\n",
      "Requirement already satisfied: urllib3<3,>=1.21.1 in c:\\users\\holly\\anaconda3\\lib\\site-packages (from requests<3,>=2.21.0->tensorflow) (2.2.3)\n",
      "Requirement already satisfied: certifi>=2017.4.17 in c:\\users\\holly\\anaconda3\\lib\\site-packages (from requests<3,>=2.21.0->tensorflow) (2025.1.31)\n",
      "Requirement already satisfied: markdown>=2.6.8 in c:\\users\\holly\\anaconda3\\lib\\site-packages (from tensorboard~=2.19.0->tensorflow) (3.4.1)\n",
      "Requirement already satisfied: tensorboard-data-server<0.8.0,>=0.7.0 in c:\\users\\holly\\anaconda3\\lib\\site-packages (from tensorboard~=2.19.0->tensorflow) (0.7.2)\n",
      "Requirement already satisfied: werkzeug>=1.0.1 in c:\\users\\holly\\anaconda3\\lib\\site-packages (from tensorboard~=2.19.0->tensorflow) (3.0.3)\n",
      "Requirement already satisfied: MarkupSafe>=2.1.1 in c:\\users\\holly\\anaconda3\\lib\\site-packages (from werkzeug>=1.0.1->tensorboard~=2.19.0->tensorflow) (2.1.3)\n",
      "Requirement already satisfied: markdown-it-py>=2.2.0 in c:\\users\\holly\\anaconda3\\lib\\site-packages (from rich->keras>=3.5.0->tensorflow) (2.2.0)\n",
      "Requirement already satisfied: pygments<3.0.0,>=2.13.0 in c:\\users\\holly\\anaconda3\\lib\\site-packages (from rich->keras>=3.5.0->tensorflow) (2.15.1)\n",
      "Requirement already satisfied: mdurl~=0.1 in c:\\users\\holly\\anaconda3\\lib\\site-packages (from markdown-it-py>=2.2.0->rich->keras>=3.5.0->tensorflow) (0.1.0)\n"
     ]
    }
   ],
   "source": [
    "# Import libraries and Data\n",
    "!pip install tensorflow\n",
    "import pandas as pd\n",
    "import numpy as np\n",
    "import seaborn as sns\n",
    "import os\n",
    "import operator\n",
    "import matplotlib.pyplot as plt\n",
    "import tensorflow as tf\n",
    "from tensorflow import keras\n",
    "from numpy import unique\n",
    "from numpy import reshape\n",
    "from keras.models import Sequential\n",
    "from keras.layers import Conv1D, Conv2D, Dense, BatchNormalization, Flatten, MaxPooling1D, Dropout\n",
    "from keras.utils import to_categorical\n",
    "from sklearn.model_selection import train_test_split\n",
    "from sklearn.preprocessing import LabelEncoder\n",
    "\n",
    "import warnings\n",
    "warnings.filterwarnings(\"ignore\")"
   ]
  },
  {
   "cell_type": "code",
   "execution_count": 3,
   "id": "00966f0e-c8d1-4657-be5e-1813cc6d73b9",
   "metadata": {},
   "outputs": [],
   "source": [
    "# path for data folder\n",
    "path= r\"C:\\Users\\Holly\\OneDrive\\David's work\\project 1 machine learning\\02 Data\""
   ]
  },
  {
   "cell_type": "code",
   "execution_count": 5,
   "id": "af2821ab-b1c2-46ae-a5d5-c39323cdb513",
   "metadata": {},
   "outputs": [],
   "source": [
    "# Importing unscaled weather features data \n",
    "unscaled= pd.read_csv(os.path.join(path,r\"C:\\Users\\Holly\\OneDrive\\David's work\\project 1 machine learning\\02 Data\\Dataset-weather-prediction-dataset-processed.csv\"))"
   ]
  },
  {
   "cell_type": "code",
   "execution_count": 7,
   "id": "9d9ab398-ba69-482b-8e3c-fec4f9643c36",
   "metadata": {},
   "outputs": [],
   "source": [
    "#Importing pleasant weather 'answer' dataset \n",
    "prediction= pd.read_csv(os.path.join(path,r\"C:\\Users\\Holly\\OneDrive\\David's work\\project 1 machine learning\\02 Data\\Dataset-Answers-Weather_Prediction_Pleasant_Weather.csv\"))"
   ]
  },
  {
   "cell_type": "code",
   "execution_count": 9,
   "id": "48088ef1-2841-4cbd-82ac-f8d510932e92",
   "metadata": {},
   "outputs": [
    {
     "data": {
      "text/plain": [
       "(22950, 170)"
      ]
     },
     "execution_count": 9,
     "metadata": {},
     "output_type": "execute_result"
    }
   ],
   "source": [
    "unscaled.shape"
   ]
  },
  {
   "cell_type": "code",
   "execution_count": 11,
   "id": "fd05bfb3-060c-4de8-8446-9208223080f5",
   "metadata": {},
   "outputs": [
    {
     "data": {
      "text/html": [
       "<div>\n",
       "<style scoped>\n",
       "    .dataframe tbody tr th:only-of-type {\n",
       "        vertical-align: middle;\n",
       "    }\n",
       "\n",
       "    .dataframe tbody tr th {\n",
       "        vertical-align: top;\n",
       "    }\n",
       "\n",
       "    .dataframe thead th {\n",
       "        text-align: right;\n",
       "    }\n",
       "</style>\n",
       "<table border=\"1\" class=\"dataframe\">\n",
       "  <thead>\n",
       "    <tr style=\"text-align: right;\">\n",
       "      <th></th>\n",
       "      <th>DATE</th>\n",
       "      <th>MONTH</th>\n",
       "      <th>BASEL_cloud_cover</th>\n",
       "      <th>BASEL_wind_speed</th>\n",
       "      <th>BASEL_humidity</th>\n",
       "      <th>BASEL_pressure</th>\n",
       "      <th>BASEL_global_radiation</th>\n",
       "      <th>BASEL_precipitation</th>\n",
       "      <th>BASEL_snow_depth</th>\n",
       "      <th>BASEL_sunshine</th>\n",
       "      <th>...</th>\n",
       "      <th>VALENTIA_cloud_cover</th>\n",
       "      <th>VALENTIA_humidity</th>\n",
       "      <th>VALENTIA_pressure</th>\n",
       "      <th>VALENTIA_global_radiation</th>\n",
       "      <th>VALENTIA_precipitation</th>\n",
       "      <th>VALENTIA_snow_depth</th>\n",
       "      <th>VALENTIA_sunshine</th>\n",
       "      <th>VALENTIA_temp_mean</th>\n",
       "      <th>VALENTIA_temp_min</th>\n",
       "      <th>VALENTIA_temp_max</th>\n",
       "    </tr>\n",
       "  </thead>\n",
       "  <tbody>\n",
       "    <tr>\n",
       "      <th>0</th>\n",
       "      <td>19600101</td>\n",
       "      <td>1</td>\n",
       "      <td>7</td>\n",
       "      <td>2.1</td>\n",
       "      <td>0.85</td>\n",
       "      <td>1.018</td>\n",
       "      <td>0.32</td>\n",
       "      <td>0.09</td>\n",
       "      <td>0</td>\n",
       "      <td>0.7</td>\n",
       "      <td>...</td>\n",
       "      <td>5</td>\n",
       "      <td>0.88</td>\n",
       "      <td>1.0003</td>\n",
       "      <td>0.45</td>\n",
       "      <td>0.34</td>\n",
       "      <td>0</td>\n",
       "      <td>4.7</td>\n",
       "      <td>8.5</td>\n",
       "      <td>6.0</td>\n",
       "      <td>10.9</td>\n",
       "    </tr>\n",
       "    <tr>\n",
       "      <th>1</th>\n",
       "      <td>19600102</td>\n",
       "      <td>1</td>\n",
       "      <td>6</td>\n",
       "      <td>2.1</td>\n",
       "      <td>0.84</td>\n",
       "      <td>1.018</td>\n",
       "      <td>0.36</td>\n",
       "      <td>1.05</td>\n",
       "      <td>0</td>\n",
       "      <td>1.1</td>\n",
       "      <td>...</td>\n",
       "      <td>7</td>\n",
       "      <td>0.91</td>\n",
       "      <td>1.0007</td>\n",
       "      <td>0.25</td>\n",
       "      <td>0.84</td>\n",
       "      <td>0</td>\n",
       "      <td>0.7</td>\n",
       "      <td>8.9</td>\n",
       "      <td>5.6</td>\n",
       "      <td>12.1</td>\n",
       "    </tr>\n",
       "    <tr>\n",
       "      <th>2</th>\n",
       "      <td>19600103</td>\n",
       "      <td>1</td>\n",
       "      <td>8</td>\n",
       "      <td>2.1</td>\n",
       "      <td>0.90</td>\n",
       "      <td>1.018</td>\n",
       "      <td>0.18</td>\n",
       "      <td>0.30</td>\n",
       "      <td>0</td>\n",
       "      <td>0.0</td>\n",
       "      <td>...</td>\n",
       "      <td>7</td>\n",
       "      <td>0.91</td>\n",
       "      <td>1.0096</td>\n",
       "      <td>0.17</td>\n",
       "      <td>0.08</td>\n",
       "      <td>0</td>\n",
       "      <td>0.1</td>\n",
       "      <td>10.5</td>\n",
       "      <td>8.1</td>\n",
       "      <td>12.9</td>\n",
       "    </tr>\n",
       "    <tr>\n",
       "      <th>3</th>\n",
       "      <td>19600104</td>\n",
       "      <td>1</td>\n",
       "      <td>3</td>\n",
       "      <td>2.1</td>\n",
       "      <td>0.92</td>\n",
       "      <td>1.018</td>\n",
       "      <td>0.58</td>\n",
       "      <td>0.00</td>\n",
       "      <td>0</td>\n",
       "      <td>4.1</td>\n",
       "      <td>...</td>\n",
       "      <td>7</td>\n",
       "      <td>0.86</td>\n",
       "      <td>1.0184</td>\n",
       "      <td>0.13</td>\n",
       "      <td>0.98</td>\n",
       "      <td>0</td>\n",
       "      <td>0.0</td>\n",
       "      <td>7.4</td>\n",
       "      <td>7.3</td>\n",
       "      <td>10.6</td>\n",
       "    </tr>\n",
       "    <tr>\n",
       "      <th>4</th>\n",
       "      <td>19600105</td>\n",
       "      <td>1</td>\n",
       "      <td>6</td>\n",
       "      <td>2.1</td>\n",
       "      <td>0.95</td>\n",
       "      <td>1.018</td>\n",
       "      <td>0.65</td>\n",
       "      <td>0.14</td>\n",
       "      <td>0</td>\n",
       "      <td>5.4</td>\n",
       "      <td>...</td>\n",
       "      <td>3</td>\n",
       "      <td>0.80</td>\n",
       "      <td>1.0328</td>\n",
       "      <td>0.46</td>\n",
       "      <td>0.00</td>\n",
       "      <td>0</td>\n",
       "      <td>5.7</td>\n",
       "      <td>5.7</td>\n",
       "      <td>3.0</td>\n",
       "      <td>8.4</td>\n",
       "    </tr>\n",
       "  </tbody>\n",
       "</table>\n",
       "<p>5 rows × 170 columns</p>\n",
       "</div>"
      ],
      "text/plain": [
       "       DATE  MONTH  BASEL_cloud_cover  BASEL_wind_speed  BASEL_humidity  \\\n",
       "0  19600101      1                  7               2.1            0.85   \n",
       "1  19600102      1                  6               2.1            0.84   \n",
       "2  19600103      1                  8               2.1            0.90   \n",
       "3  19600104      1                  3               2.1            0.92   \n",
       "4  19600105      1                  6               2.1            0.95   \n",
       "\n",
       "   BASEL_pressure  BASEL_global_radiation  BASEL_precipitation  \\\n",
       "0           1.018                    0.32                 0.09   \n",
       "1           1.018                    0.36                 1.05   \n",
       "2           1.018                    0.18                 0.30   \n",
       "3           1.018                    0.58                 0.00   \n",
       "4           1.018                    0.65                 0.14   \n",
       "\n",
       "   BASEL_snow_depth  BASEL_sunshine  ...  VALENTIA_cloud_cover  \\\n",
       "0                 0             0.7  ...                     5   \n",
       "1                 0             1.1  ...                     7   \n",
       "2                 0             0.0  ...                     7   \n",
       "3                 0             4.1  ...                     7   \n",
       "4                 0             5.4  ...                     3   \n",
       "\n",
       "   VALENTIA_humidity  VALENTIA_pressure  VALENTIA_global_radiation  \\\n",
       "0               0.88             1.0003                       0.45   \n",
       "1               0.91             1.0007                       0.25   \n",
       "2               0.91             1.0096                       0.17   \n",
       "3               0.86             1.0184                       0.13   \n",
       "4               0.80             1.0328                       0.46   \n",
       "\n",
       "   VALENTIA_precipitation  VALENTIA_snow_depth  VALENTIA_sunshine  \\\n",
       "0                    0.34                    0                4.7   \n",
       "1                    0.84                    0                0.7   \n",
       "2                    0.08                    0                0.1   \n",
       "3                    0.98                    0                0.0   \n",
       "4                    0.00                    0                5.7   \n",
       "\n",
       "   VALENTIA_temp_mean  VALENTIA_temp_min  VALENTIA_temp_max  \n",
       "0                 8.5                6.0               10.9  \n",
       "1                 8.9                5.6               12.1  \n",
       "2                10.5                8.1               12.9  \n",
       "3                 7.4                7.3               10.6  \n",
       "4                 5.7                3.0                8.4  \n",
       "\n",
       "[5 rows x 170 columns]"
      ]
     },
     "execution_count": 11,
     "metadata": {},
     "output_type": "execute_result"
    }
   ],
   "source": [
    "unscaled.head()"
   ]
  },
  {
   "cell_type": "markdown",
   "id": "68810da9-8d17-491a-acf7-fa849da8eb63",
   "metadata": {},
   "source": [
    "## Data Wrangle"
   ]
  },
  {
   "cell_type": "code",
   "execution_count": 13,
   "id": "db341169-b4ed-42bc-9872-4b52e79258c9",
   "metadata": {},
   "outputs": [],
   "source": [
    "# Remove weather stations not included in \"pleasant weather\" answers\n",
    "unscaled = unscaled.drop(['GDANSK_cloud_cover', 'GDANSK_humidity', 'GDANSK_precipitation', 'GDANSK_snow_depth', 'GDANSK_temp_mean', 'GDANSK_temp_min', 'GDANSK_temp_max',\n",
    "                        'ROMA_cloud_cover', 'ROMA_wind_speed', 'ROMA_humidity', 'ROMA_pressure', 'ROMA_sunshine', 'ROMA_temp_mean',\n",
    "                        'TOURS_wind_speed', 'TOURS_humidity', 'TOURS_pressure', 'TOURS_global_radiation', 'TOURS_precipitation', 'TOURS_temp_mean', 'TOURS_temp_min', 'TOURS_temp_max'], axis=1)"
   ]
  },
  {
   "cell_type": "code",
   "execution_count": 15,
   "id": "0f5215f7-774c-4497-9bdb-a8fab02d70ba",
   "metadata": {},
   "outputs": [
    {
     "data": {
      "text/html": [
       "<div>\n",
       "<style scoped>\n",
       "    .dataframe tbody tr th:only-of-type {\n",
       "        vertical-align: middle;\n",
       "    }\n",
       "\n",
       "    .dataframe tbody tr th {\n",
       "        vertical-align: top;\n",
       "    }\n",
       "\n",
       "    .dataframe thead th {\n",
       "        text-align: right;\n",
       "    }\n",
       "</style>\n",
       "<table border=\"1\" class=\"dataframe\">\n",
       "  <thead>\n",
       "    <tr style=\"text-align: right;\">\n",
       "      <th></th>\n",
       "      <th>DATE</th>\n",
       "      <th>BASEL_pleasant_weather</th>\n",
       "      <th>BELGRADE_pleasant_weather</th>\n",
       "      <th>BUDAPEST_pleasant_weather</th>\n",
       "      <th>DEBILT_pleasant_weather</th>\n",
       "      <th>DUSSELDORF_pleasant_weather</th>\n",
       "      <th>HEATHROW_pleasant_weather</th>\n",
       "      <th>KASSEL_pleasant_weather</th>\n",
       "      <th>LJUBLJANA_pleasant_weather</th>\n",
       "      <th>MAASTRICHT_pleasant_weather</th>\n",
       "      <th>MADRID_pleasant_weather</th>\n",
       "      <th>MUNCHENB_pleasant_weather</th>\n",
       "      <th>OSLO_pleasant_weather</th>\n",
       "      <th>SONNBLICK_pleasant_weather</th>\n",
       "      <th>STOCKHOLM_pleasant_weather</th>\n",
       "      <th>VALENTIA_pleasant_weather</th>\n",
       "    </tr>\n",
       "  </thead>\n",
       "  <tbody>\n",
       "    <tr>\n",
       "      <th>0</th>\n",
       "      <td>19600101</td>\n",
       "      <td>0</td>\n",
       "      <td>0</td>\n",
       "      <td>0</td>\n",
       "      <td>0</td>\n",
       "      <td>0</td>\n",
       "      <td>0</td>\n",
       "      <td>0</td>\n",
       "      <td>0</td>\n",
       "      <td>0</td>\n",
       "      <td>0</td>\n",
       "      <td>0</td>\n",
       "      <td>0</td>\n",
       "      <td>0</td>\n",
       "      <td>0</td>\n",
       "      <td>0</td>\n",
       "    </tr>\n",
       "    <tr>\n",
       "      <th>1</th>\n",
       "      <td>19600102</td>\n",
       "      <td>0</td>\n",
       "      <td>0</td>\n",
       "      <td>0</td>\n",
       "      <td>0</td>\n",
       "      <td>0</td>\n",
       "      <td>0</td>\n",
       "      <td>0</td>\n",
       "      <td>0</td>\n",
       "      <td>0</td>\n",
       "      <td>0</td>\n",
       "      <td>0</td>\n",
       "      <td>0</td>\n",
       "      <td>0</td>\n",
       "      <td>0</td>\n",
       "      <td>0</td>\n",
       "    </tr>\n",
       "    <tr>\n",
       "      <th>2</th>\n",
       "      <td>19600103</td>\n",
       "      <td>0</td>\n",
       "      <td>0</td>\n",
       "      <td>0</td>\n",
       "      <td>0</td>\n",
       "      <td>0</td>\n",
       "      <td>0</td>\n",
       "      <td>0</td>\n",
       "      <td>0</td>\n",
       "      <td>0</td>\n",
       "      <td>0</td>\n",
       "      <td>0</td>\n",
       "      <td>0</td>\n",
       "      <td>0</td>\n",
       "      <td>0</td>\n",
       "      <td>0</td>\n",
       "    </tr>\n",
       "    <tr>\n",
       "      <th>3</th>\n",
       "      <td>19600104</td>\n",
       "      <td>0</td>\n",
       "      <td>0</td>\n",
       "      <td>0</td>\n",
       "      <td>0</td>\n",
       "      <td>0</td>\n",
       "      <td>0</td>\n",
       "      <td>0</td>\n",
       "      <td>0</td>\n",
       "      <td>0</td>\n",
       "      <td>0</td>\n",
       "      <td>0</td>\n",
       "      <td>0</td>\n",
       "      <td>0</td>\n",
       "      <td>0</td>\n",
       "      <td>0</td>\n",
       "    </tr>\n",
       "    <tr>\n",
       "      <th>4</th>\n",
       "      <td>19600105</td>\n",
       "      <td>0</td>\n",
       "      <td>0</td>\n",
       "      <td>0</td>\n",
       "      <td>0</td>\n",
       "      <td>0</td>\n",
       "      <td>0</td>\n",
       "      <td>0</td>\n",
       "      <td>0</td>\n",
       "      <td>0</td>\n",
       "      <td>0</td>\n",
       "      <td>0</td>\n",
       "      <td>0</td>\n",
       "      <td>0</td>\n",
       "      <td>0</td>\n",
       "      <td>0</td>\n",
       "    </tr>\n",
       "  </tbody>\n",
       "</table>\n",
       "</div>"
      ],
      "text/plain": [
       "       DATE  BASEL_pleasant_weather  BELGRADE_pleasant_weather  \\\n",
       "0  19600101                       0                          0   \n",
       "1  19600102                       0                          0   \n",
       "2  19600103                       0                          0   \n",
       "3  19600104                       0                          0   \n",
       "4  19600105                       0                          0   \n",
       "\n",
       "   BUDAPEST_pleasant_weather  DEBILT_pleasant_weather  \\\n",
       "0                          0                        0   \n",
       "1                          0                        0   \n",
       "2                          0                        0   \n",
       "3                          0                        0   \n",
       "4                          0                        0   \n",
       "\n",
       "   DUSSELDORF_pleasant_weather  HEATHROW_pleasant_weather  \\\n",
       "0                            0                          0   \n",
       "1                            0                          0   \n",
       "2                            0                          0   \n",
       "3                            0                          0   \n",
       "4                            0                          0   \n",
       "\n",
       "   KASSEL_pleasant_weather  LJUBLJANA_pleasant_weather  \\\n",
       "0                        0                           0   \n",
       "1                        0                           0   \n",
       "2                        0                           0   \n",
       "3                        0                           0   \n",
       "4                        0                           0   \n",
       "\n",
       "   MAASTRICHT_pleasant_weather  MADRID_pleasant_weather  \\\n",
       "0                            0                        0   \n",
       "1                            0                        0   \n",
       "2                            0                        0   \n",
       "3                            0                        0   \n",
       "4                            0                        0   \n",
       "\n",
       "   MUNCHENB_pleasant_weather  OSLO_pleasant_weather  \\\n",
       "0                          0                      0   \n",
       "1                          0                      0   \n",
       "2                          0                      0   \n",
       "3                          0                      0   \n",
       "4                          0                      0   \n",
       "\n",
       "   SONNBLICK_pleasant_weather  STOCKHOLM_pleasant_weather  \\\n",
       "0                           0                           0   \n",
       "1                           0                           0   \n",
       "2                           0                           0   \n",
       "3                           0                           0   \n",
       "4                           0                           0   \n",
       "\n",
       "   VALENTIA_pleasant_weather  \n",
       "0                          0  \n",
       "1                          0  \n",
       "2                          0  \n",
       "3                          0  \n",
       "4                          0  "
      ]
     },
     "execution_count": 15,
     "metadata": {},
     "output_type": "execute_result"
    }
   ],
   "source": [
    "# Check the pleasant dataset\n",
    "prediction.head()"
   ]
  },
  {
   "cell_type": "code",
   "execution_count": 17,
   "id": "21442cb1-113d-4a99-8c63-5d803ed290d4",
   "metadata": {},
   "outputs": [
    {
     "data": {
      "text/plain": [
       "(22950, 16)"
      ]
     },
     "execution_count": 17,
     "metadata": {},
     "output_type": "execute_result"
    }
   ],
   "source": [
    "prediction.shape"
   ]
  },
  {
   "cell_type": "code",
   "execution_count": 19,
   "id": "d984dd17-5b5c-4e8b-8bdc-b2a21bfa0022",
   "metadata": {},
   "outputs": [
    {
     "data": {
      "text/plain": [
       "DATE                   0\n",
       "MONTH                  0\n",
       "BASEL_cloud_cover      0\n",
       "BASEL_wind_speed       0\n",
       "BASEL_humidity         0\n",
       "                      ..\n",
       "VALENTIA_snow_depth    0\n",
       "VALENTIA_sunshine      0\n",
       "VALENTIA_temp_mean     0\n",
       "VALENTIA_temp_min      0\n",
       "VALENTIA_temp_max      0\n",
       "Length: 149, dtype: int64"
      ]
     },
     "execution_count": 19,
     "metadata": {},
     "output_type": "execute_result"
    }
   ],
   "source": [
    "unscaled.isnull().sum()"
   ]
  },
  {
   "cell_type": "code",
   "execution_count": 21,
   "id": "b0a30ea0-e583-4fae-b6b8-fc1eb8b0773f",
   "metadata": {},
   "outputs": [
    {
     "data": {
      "text/plain": [
       "DATE                           0\n",
       "BASEL_pleasant_weather         0\n",
       "BELGRADE_pleasant_weather      0\n",
       "BUDAPEST_pleasant_weather      0\n",
       "DEBILT_pleasant_weather        0\n",
       "DUSSELDORF_pleasant_weather    0\n",
       "HEATHROW_pleasant_weather      0\n",
       "KASSEL_pleasant_weather        0\n",
       "LJUBLJANA_pleasant_weather     0\n",
       "MAASTRICHT_pleasant_weather    0\n",
       "MADRID_pleasant_weather        0\n",
       "MUNCHENB_pleasant_weather      0\n",
       "OSLO_pleasant_weather          0\n",
       "SONNBLICK_pleasant_weather     0\n",
       "STOCKHOLM_pleasant_weather     0\n",
       "VALENTIA_pleasant_weather      0\n",
       "dtype: int64"
      ]
     },
     "execution_count": 21,
     "metadata": {},
     "output_type": "execute_result"
    }
   ],
   "source": [
    "prediction.isnull().sum()"
   ]
  },
  {
   "cell_type": "code",
   "execution_count": 23,
   "id": "0192c61b-b326-4941-bdba-2efadf939dfd",
   "metadata": {},
   "outputs": [],
   "source": [
    "# Extract the different observation types\n",
    "\n",
    "observation_types = ['cloud_cover', 'wind_speed', 'humidity', 'pressure',\n",
    "                     'global_radiation', 'precipitation', 'snow_depth', \n",
    "                     'sunshine', 'temp_mean', 'temp_min', 'temp_max']"
   ]
  },
  {
   "cell_type": "code",
   "execution_count": 25,
   "id": "77aa6dbb-1057-4031-bb7b-27c11e01b115",
   "metadata": {},
   "outputs": [
    {
     "name": "stdout",
     "output_type": "stream",
     "text": [
      "Number of stations covered by each observation type:\n",
      "cloud_cover: 14 stations\n",
      "wind_speed: 9 stations\n",
      "humidity: 14 stations\n",
      "pressure: 14 stations\n",
      "global_radiation: 15 stations\n",
      "precipitation: 15 stations\n",
      "snow_depth: 6 stations\n",
      "sunshine: 15 stations\n",
      "temp_mean: 15 stations\n",
      "temp_min: 15 stations\n",
      "temp_max: 15 stations\n"
     ]
    }
   ],
   "source": [
    "# Create a dictionary to store the count of stations for each observation type\n",
    "station_counts = {}\n",
    "\n",
    "for obs in observation_types:\n",
    "    # Select columns related to the current observation type\n",
    "    columns = [col for col in unscaled.columns if col.endswith(obs)]\n",
    "    \n",
    "    # Count the number of stations (i.e., the number of columns) for the current observation type\n",
    "    station_counts[obs] = len(columns)\n",
    "\n",
    "# Print the count of stations for each observation type\n",
    "print(\"Number of stations covered by each observation type:\")\n",
    "for obs, count in station_counts.items():\n",
    "    print(f\"{obs}: {count} stations\")\n"
   ]
  },
  {
   "cell_type": "code",
   "execution_count": 27,
   "id": "5a61f022-bbcf-4fae-b896-db960f03ba90",
   "metadata": {},
   "outputs": [],
   "source": [
    "# Get a list of columns containing 'wind_speed' or 'snow_depth'\n",
    "cols_to_drop = [col for col in unscaled.columns if '_wind_speed' in col or '_snow_depth' in col]\n",
    "\n",
    "# Drop the columns\n",
    "unscaled = unscaled.drop(cols_to_drop, axis=1)"
   ]
  },
  {
   "cell_type": "code",
   "execution_count": 29,
   "id": "ddf5c6de-2b68-4964-ae04-fe8caf2b1a21",
   "metadata": {},
   "outputs": [
    {
     "data": {
      "text/plain": [
       "(22950, 134)"
      ]
     },
     "execution_count": 29,
     "metadata": {},
     "output_type": "execute_result"
    }
   ],
   "source": [
    "unscaled.shape"
   ]
  },
  {
   "cell_type": "code",
   "execution_count": 31,
   "id": "d1bd05cb-43e9-4785-a516-c5ce12ec6c8d",
   "metadata": {},
   "outputs": [
    {
     "name": "stdout",
     "output_type": "stream",
     "text": [
      "{'BELGRADE', 'BUDAPEST', 'OSLO', 'VALENTIA', 'DUSSELDORF', 'MAASTRICHT', 'STOCKHOLM', 'KASSEL', 'MADRID', 'BASEL', 'MUNCHENB', 'LJUBLJANA', 'SONNBLICK', 'DEBILT', 'HEATHROW'}\n"
     ]
    }
   ],
   "source": [
    "# Find the stations with the above entries missing\n",
    "# Get all column names\n",
    "all_columns = unscaled.columns.tolist()\n",
    "# Exclude 'DATE' and 'MONTH' columns\n",
    "all_columns = [col for col in all_columns if col not in ['DATE', 'MONTH']]  \n",
    "# Extract unique weather station names\n",
    "weather_stations = set()  # Use a set to automatically store only unique values\n",
    "for col in all_columns:\n",
    "    station_name = col.split('_')[0]  # Split the column name at the underscore and take the first part\n",
    "    weather_stations.add(station_name)\n",
    "\n",
    "# Print the list of weather stations\n",
    "print(weather_stations)"
   ]
  },
  {
   "cell_type": "code",
   "execution_count": 33,
   "id": "25cc63a1-90b9-4807-a1d1-50d437bb2991",
   "metadata": {},
   "outputs": [
    {
     "name": "stdout",
     "output_type": "stream",
     "text": [
      "\n",
      "Stations missing from cloud_cover:\n",
      "KASSEL\n",
      "\n",
      "Stations missing from humidity:\n",
      "STOCKHOLM\n",
      "\n",
      "Stations missing from pressure:\n",
      "MUNCHENB\n"
     ]
    }
   ],
   "source": [
    "# Find stations missing observation types\n",
    "observation_types = ['cloud_cover', 'humidity', 'pressure']\n",
    "\n",
    "missing_stations_by_observation = {}\n",
    "\n",
    "for obs in observation_types:\n",
    "    # Select columns related to the current observation type\n",
    "    columns = [col for col in unscaled.columns if col.endswith(obs)]\n",
    "    \n",
    "    # Extract station names by removing the observation type from the column names\n",
    "    station_names = set([col.replace(f'_{obs}', '') for col in columns])\n",
    "    \n",
    "    # Identify stations that are in all_stations but missing from the current observation type\n",
    "    missing_stations = weather_stations - station_names\n",
    "    \n",
    "    # Store the missing station names in the dictionary\n",
    "    missing_stations_by_observation[obs] = missing_stations\n",
    "\n",
    "# Print the missing station names for each observation type\n",
    "for obs, missing_stations in missing_stations_by_observation.items():\n",
    "    print(f\"\\nStations missing from {obs}:\")\n",
    "    if missing_stations:\n",
    "        for station in missing_stations:\n",
    "            print(station)\n",
    "    else:\n",
    "        print(\"None\")"
   ]
  },
  {
   "cell_type": "code",
   "execution_count": 35,
   "id": "9c4fe3cc-e616-46f1-9010-b8b48e2ffbbe",
   "metadata": {},
   "outputs": [
    {
     "data": {
      "text/html": [
       "<div>\n",
       "<style scoped>\n",
       "    .dataframe tbody tr th:only-of-type {\n",
       "        vertical-align: middle;\n",
       "    }\n",
       "\n",
       "    .dataframe tbody tr th {\n",
       "        vertical-align: top;\n",
       "    }\n",
       "\n",
       "    .dataframe thead th {\n",
       "        text-align: right;\n",
       "    }\n",
       "</style>\n",
       "<table border=\"1\" class=\"dataframe\">\n",
       "  <thead>\n",
       "    <tr style=\"text-align: right;\">\n",
       "      <th></th>\n",
       "      <th>DATE</th>\n",
       "      <th>MONTH</th>\n",
       "      <th>BASEL_cloud_cover</th>\n",
       "      <th>BASEL_humidity</th>\n",
       "      <th>BASEL_pressure</th>\n",
       "      <th>BASEL_global_radiation</th>\n",
       "      <th>BASEL_precipitation</th>\n",
       "      <th>BASEL_sunshine</th>\n",
       "      <th>BASEL_temp_mean</th>\n",
       "      <th>BASEL_temp_min</th>\n",
       "      <th>...</th>\n",
       "      <th>STOCKHOLM_temp_max</th>\n",
       "      <th>VALENTIA_cloud_cover</th>\n",
       "      <th>VALENTIA_humidity</th>\n",
       "      <th>VALENTIA_pressure</th>\n",
       "      <th>VALENTIA_global_radiation</th>\n",
       "      <th>VALENTIA_precipitation</th>\n",
       "      <th>VALENTIA_sunshine</th>\n",
       "      <th>VALENTIA_temp_mean</th>\n",
       "      <th>VALENTIA_temp_min</th>\n",
       "      <th>VALENTIA_temp_max</th>\n",
       "    </tr>\n",
       "  </thead>\n",
       "  <tbody>\n",
       "    <tr>\n",
       "      <th>0</th>\n",
       "      <td>19600101</td>\n",
       "      <td>1</td>\n",
       "      <td>7</td>\n",
       "      <td>0.85</td>\n",
       "      <td>1.018</td>\n",
       "      <td>0.32</td>\n",
       "      <td>0.09</td>\n",
       "      <td>0.7</td>\n",
       "      <td>6.5</td>\n",
       "      <td>0.8</td>\n",
       "      <td>...</td>\n",
       "      <td>4.9</td>\n",
       "      <td>5</td>\n",
       "      <td>0.88</td>\n",
       "      <td>1.0003</td>\n",
       "      <td>0.45</td>\n",
       "      <td>0.34</td>\n",
       "      <td>4.7</td>\n",
       "      <td>8.5</td>\n",
       "      <td>6.0</td>\n",
       "      <td>10.9</td>\n",
       "    </tr>\n",
       "    <tr>\n",
       "      <th>1</th>\n",
       "      <td>19600102</td>\n",
       "      <td>1</td>\n",
       "      <td>6</td>\n",
       "      <td>0.84</td>\n",
       "      <td>1.018</td>\n",
       "      <td>0.36</td>\n",
       "      <td>1.05</td>\n",
       "      <td>1.1</td>\n",
       "      <td>6.1</td>\n",
       "      <td>3.3</td>\n",
       "      <td>...</td>\n",
       "      <td>5.0</td>\n",
       "      <td>7</td>\n",
       "      <td>0.91</td>\n",
       "      <td>1.0007</td>\n",
       "      <td>0.25</td>\n",
       "      <td>0.84</td>\n",
       "      <td>0.7</td>\n",
       "      <td>8.9</td>\n",
       "      <td>5.6</td>\n",
       "      <td>12.1</td>\n",
       "    </tr>\n",
       "    <tr>\n",
       "      <th>2</th>\n",
       "      <td>19600103</td>\n",
       "      <td>1</td>\n",
       "      <td>8</td>\n",
       "      <td>0.90</td>\n",
       "      <td>1.018</td>\n",
       "      <td>0.18</td>\n",
       "      <td>0.30</td>\n",
       "      <td>0.0</td>\n",
       "      <td>8.5</td>\n",
       "      <td>5.1</td>\n",
       "      <td>...</td>\n",
       "      <td>4.1</td>\n",
       "      <td>7</td>\n",
       "      <td>0.91</td>\n",
       "      <td>1.0096</td>\n",
       "      <td>0.17</td>\n",
       "      <td>0.08</td>\n",
       "      <td>0.1</td>\n",
       "      <td>10.5</td>\n",
       "      <td>8.1</td>\n",
       "      <td>12.9</td>\n",
       "    </tr>\n",
       "    <tr>\n",
       "      <th>3</th>\n",
       "      <td>19600104</td>\n",
       "      <td>1</td>\n",
       "      <td>3</td>\n",
       "      <td>0.92</td>\n",
       "      <td>1.018</td>\n",
       "      <td>0.58</td>\n",
       "      <td>0.00</td>\n",
       "      <td>4.1</td>\n",
       "      <td>6.3</td>\n",
       "      <td>3.8</td>\n",
       "      <td>...</td>\n",
       "      <td>2.3</td>\n",
       "      <td>7</td>\n",
       "      <td>0.86</td>\n",
       "      <td>1.0184</td>\n",
       "      <td>0.13</td>\n",
       "      <td>0.98</td>\n",
       "      <td>0.0</td>\n",
       "      <td>7.4</td>\n",
       "      <td>7.3</td>\n",
       "      <td>10.6</td>\n",
       "    </tr>\n",
       "    <tr>\n",
       "      <th>4</th>\n",
       "      <td>19600105</td>\n",
       "      <td>1</td>\n",
       "      <td>6</td>\n",
       "      <td>0.95</td>\n",
       "      <td>1.018</td>\n",
       "      <td>0.65</td>\n",
       "      <td>0.14</td>\n",
       "      <td>5.4</td>\n",
       "      <td>3.0</td>\n",
       "      <td>-0.7</td>\n",
       "      <td>...</td>\n",
       "      <td>4.3</td>\n",
       "      <td>3</td>\n",
       "      <td>0.80</td>\n",
       "      <td>1.0328</td>\n",
       "      <td>0.46</td>\n",
       "      <td>0.00</td>\n",
       "      <td>5.7</td>\n",
       "      <td>5.7</td>\n",
       "      <td>3.0</td>\n",
       "      <td>8.4</td>\n",
       "    </tr>\n",
       "  </tbody>\n",
       "</table>\n",
       "<p>5 rows × 134 columns</p>\n",
       "</div>"
      ],
      "text/plain": [
       "       DATE  MONTH  BASEL_cloud_cover  BASEL_humidity  BASEL_pressure  \\\n",
       "0  19600101      1                  7            0.85           1.018   \n",
       "1  19600102      1                  6            0.84           1.018   \n",
       "2  19600103      1                  8            0.90           1.018   \n",
       "3  19600104      1                  3            0.92           1.018   \n",
       "4  19600105      1                  6            0.95           1.018   \n",
       "\n",
       "   BASEL_global_radiation  BASEL_precipitation  BASEL_sunshine  \\\n",
       "0                    0.32                 0.09             0.7   \n",
       "1                    0.36                 1.05             1.1   \n",
       "2                    0.18                 0.30             0.0   \n",
       "3                    0.58                 0.00             4.1   \n",
       "4                    0.65                 0.14             5.4   \n",
       "\n",
       "   BASEL_temp_mean  BASEL_temp_min  ...  STOCKHOLM_temp_max  \\\n",
       "0              6.5             0.8  ...                 4.9   \n",
       "1              6.1             3.3  ...                 5.0   \n",
       "2              8.5             5.1  ...                 4.1   \n",
       "3              6.3             3.8  ...                 2.3   \n",
       "4              3.0            -0.7  ...                 4.3   \n",
       "\n",
       "   VALENTIA_cloud_cover  VALENTIA_humidity  VALENTIA_pressure  \\\n",
       "0                     5               0.88             1.0003   \n",
       "1                     7               0.91             1.0007   \n",
       "2                     7               0.91             1.0096   \n",
       "3                     7               0.86             1.0184   \n",
       "4                     3               0.80             1.0328   \n",
       "\n",
       "   VALENTIA_global_radiation  VALENTIA_precipitation  VALENTIA_sunshine  \\\n",
       "0                       0.45                    0.34                4.7   \n",
       "1                       0.25                    0.84                0.7   \n",
       "2                       0.17                    0.08                0.1   \n",
       "3                       0.13                    0.98                0.0   \n",
       "4                       0.46                    0.00                5.7   \n",
       "\n",
       "   VALENTIA_temp_mean  VALENTIA_temp_min  VALENTIA_temp_max  \n",
       "0                 8.5                6.0               10.9  \n",
       "1                 8.9                5.6               12.1  \n",
       "2                10.5                8.1               12.9  \n",
       "3                 7.4                7.3               10.6  \n",
       "4                 5.7                3.0                8.4  \n",
       "\n",
       "[5 rows x 134 columns]"
      ]
     },
     "execution_count": 35,
     "metadata": {},
     "output_type": "execute_result"
    }
   ],
   "source": [
    "unscaled.head()"
   ]
  },
  {
   "cell_type": "code",
   "execution_count": 37,
   "id": "603b7f32-26ac-4fcc-a60f-a67e4745a71f",
   "metadata": {},
   "outputs": [
    {
     "data": {
      "text/plain": [
       "55"
      ]
     },
     "execution_count": 37,
     "metadata": {},
     "output_type": "execute_result"
    }
   ],
   "source": [
    "# Cloud cover is the start of a stations data, Kassel is next to Heathrow, find the position of Heathrow_temp_max for the insertion of Kassel_cloud_cover\n",
    "unscaled.columns.get_loc('HEATHROW_temp_max')"
   ]
  },
  {
   "cell_type": "code",
   "execution_count": 39,
   "id": "b42d9af1-b919-405e-aa0f-8cb22ee21b22",
   "metadata": {},
   "outputs": [
    {
     "data": {
      "text/plain": [
       "117"
      ]
     },
     "execution_count": 39,
     "metadata": {},
     "output_type": "execute_result"
    }
   ],
   "source": [
    "# Find the position for insertion of Stockholm humidity\n",
    "unscaled.columns.get_loc('STOCKHOLM_cloud_cover') #humidity is 1 after cloud cover so (result +1)"
   ]
  },
  {
   "cell_type": "code",
   "execution_count": 41,
   "id": "b7aed236-f6c5-4c9f-ad72-2c6451471485",
   "metadata": {},
   "outputs": [
    {
     "data": {
      "text/plain": [
       "91"
      ]
     },
     "execution_count": 41,
     "metadata": {},
     "output_type": "execute_result"
    }
   ],
   "source": [
    "# Find position for Munchenb pressure\n",
    "unscaled.columns.get_loc('MUNCHENB_cloud_cover') # pressure is 2 after cloud cover so (result +2)"
   ]
  },
  {
   "cell_type": "code",
   "execution_count": 43,
   "id": "630e88bd-79ea-4da6-898b-33d86c202cd8",
   "metadata": {},
   "outputs": [],
   "source": [
    "# Insert new columns into \"unscaled\" at specific positions.\n",
    "# The data for these new columns is taken from weather stations they are close to\n",
    "\n",
    "unscaled.insert(56,'KASSEL_cloud_cover', unscaled['DUSSELDORF_cloud_cover'])\n",
    "unscaled.insert(119, 'STOCKHOLM_humidity', unscaled['OSLO_humidity'])\n",
    "unscaled.insert(94,'MUNCHENB_pressure',unscaled['BASEL_pressure'])"
   ]
  },
  {
   "cell_type": "code",
   "execution_count": 45,
   "id": "492b2566-e167-41c4-8314-af93339af8d8",
   "metadata": {},
   "outputs": [
    {
     "data": {
      "text/plain": [
       "['DATE',\n",
       " 'MONTH',\n",
       " 'BASEL_cloud_cover',\n",
       " 'BASEL_humidity',\n",
       " 'BASEL_pressure',\n",
       " 'BASEL_global_radiation',\n",
       " 'BASEL_precipitation',\n",
       " 'BASEL_sunshine',\n",
       " 'BASEL_temp_mean',\n",
       " 'BASEL_temp_min',\n",
       " 'BASEL_temp_max',\n",
       " 'BELGRADE_cloud_cover',\n",
       " 'BELGRADE_humidity',\n",
       " 'BELGRADE_pressure',\n",
       " 'BELGRADE_global_radiation',\n",
       " 'BELGRADE_precipitation',\n",
       " 'BELGRADE_sunshine',\n",
       " 'BELGRADE_temp_mean',\n",
       " 'BELGRADE_temp_min',\n",
       " 'BELGRADE_temp_max',\n",
       " 'BUDAPEST_cloud_cover',\n",
       " 'BUDAPEST_humidity',\n",
       " 'BUDAPEST_pressure',\n",
       " 'BUDAPEST_global_radiation',\n",
       " 'BUDAPEST_precipitation',\n",
       " 'BUDAPEST_sunshine',\n",
       " 'BUDAPEST_temp_mean',\n",
       " 'BUDAPEST_temp_min',\n",
       " 'BUDAPEST_temp_max',\n",
       " 'DEBILT_cloud_cover',\n",
       " 'DEBILT_humidity',\n",
       " 'DEBILT_pressure',\n",
       " 'DEBILT_global_radiation',\n",
       " 'DEBILT_precipitation',\n",
       " 'DEBILT_sunshine',\n",
       " 'DEBILT_temp_mean',\n",
       " 'DEBILT_temp_min',\n",
       " 'DEBILT_temp_max',\n",
       " 'DUSSELDORF_cloud_cover',\n",
       " 'DUSSELDORF_humidity',\n",
       " 'DUSSELDORF_pressure',\n",
       " 'DUSSELDORF_global_radiation',\n",
       " 'DUSSELDORF_precipitation',\n",
       " 'DUSSELDORF_sunshine',\n",
       " 'DUSSELDORF_temp_mean',\n",
       " 'DUSSELDORF_temp_min',\n",
       " 'DUSSELDORF_temp_max',\n",
       " 'HEATHROW_cloud_cover',\n",
       " 'HEATHROW_humidity',\n",
       " 'HEATHROW_pressure',\n",
       " 'HEATHROW_global_radiation',\n",
       " 'HEATHROW_precipitation',\n",
       " 'HEATHROW_sunshine',\n",
       " 'HEATHROW_temp_mean',\n",
       " 'HEATHROW_temp_min',\n",
       " 'HEATHROW_temp_max',\n",
       " 'KASSEL_cloud_cover',\n",
       " 'KASSEL_humidity',\n",
       " 'KASSEL_pressure',\n",
       " 'KASSEL_global_radiation',\n",
       " 'KASSEL_precipitation',\n",
       " 'KASSEL_sunshine',\n",
       " 'KASSEL_temp_mean',\n",
       " 'KASSEL_temp_min',\n",
       " 'KASSEL_temp_max',\n",
       " 'LJUBLJANA_cloud_cover',\n",
       " 'LJUBLJANA_humidity',\n",
       " 'LJUBLJANA_pressure',\n",
       " 'LJUBLJANA_global_radiation',\n",
       " 'LJUBLJANA_precipitation',\n",
       " 'LJUBLJANA_sunshine',\n",
       " 'LJUBLJANA_temp_mean',\n",
       " 'LJUBLJANA_temp_min',\n",
       " 'LJUBLJANA_temp_max',\n",
       " 'MAASTRICHT_cloud_cover',\n",
       " 'MAASTRICHT_humidity',\n",
       " 'MAASTRICHT_pressure',\n",
       " 'MAASTRICHT_global_radiation',\n",
       " 'MAASTRICHT_precipitation',\n",
       " 'MAASTRICHT_sunshine',\n",
       " 'MAASTRICHT_temp_mean',\n",
       " 'MAASTRICHT_temp_min',\n",
       " 'MAASTRICHT_temp_max',\n",
       " 'MADRID_cloud_cover',\n",
       " 'MADRID_humidity',\n",
       " 'MADRID_pressure',\n",
       " 'MADRID_global_radiation',\n",
       " 'MADRID_precipitation',\n",
       " 'MADRID_sunshine',\n",
       " 'MADRID_temp_mean',\n",
       " 'MADRID_temp_min',\n",
       " 'MADRID_temp_max',\n",
       " 'MUNCHENB_cloud_cover',\n",
       " 'MUNCHENB_humidity',\n",
       " 'MUNCHENB_pressure',\n",
       " 'MUNCHENB_global_radiation',\n",
       " 'MUNCHENB_precipitation',\n",
       " 'MUNCHENB_sunshine',\n",
       " 'MUNCHENB_temp_mean',\n",
       " 'MUNCHENB_temp_min',\n",
       " 'MUNCHENB_temp_max',\n",
       " 'OSLO_cloud_cover',\n",
       " 'OSLO_humidity',\n",
       " 'OSLO_pressure',\n",
       " 'OSLO_global_radiation',\n",
       " 'OSLO_precipitation',\n",
       " 'OSLO_sunshine',\n",
       " 'OSLO_temp_mean',\n",
       " 'OSLO_temp_min',\n",
       " 'OSLO_temp_max',\n",
       " 'SONNBLICK_cloud_cover',\n",
       " 'SONNBLICK_humidity',\n",
       " 'SONNBLICK_pressure',\n",
       " 'SONNBLICK_global_radiation',\n",
       " 'SONNBLICK_precipitation',\n",
       " 'SONNBLICK_sunshine',\n",
       " 'SONNBLICK_temp_mean',\n",
       " 'SONNBLICK_temp_min',\n",
       " 'SONNBLICK_temp_max',\n",
       " 'STOCKHOLM_cloud_cover',\n",
       " 'STOCKHOLM_humidity',\n",
       " 'STOCKHOLM_pressure',\n",
       " 'STOCKHOLM_global_radiation',\n",
       " 'STOCKHOLM_precipitation',\n",
       " 'STOCKHOLM_sunshine',\n",
       " 'STOCKHOLM_temp_mean',\n",
       " 'STOCKHOLM_temp_min',\n",
       " 'STOCKHOLM_temp_max',\n",
       " 'VALENTIA_cloud_cover',\n",
       " 'VALENTIA_humidity',\n",
       " 'VALENTIA_pressure',\n",
       " 'VALENTIA_global_radiation',\n",
       " 'VALENTIA_precipitation',\n",
       " 'VALENTIA_sunshine',\n",
       " 'VALENTIA_temp_mean',\n",
       " 'VALENTIA_temp_min',\n",
       " 'VALENTIA_temp_max']"
      ]
     },
     "execution_count": 45,
     "metadata": {},
     "output_type": "execute_result"
    }
   ],
   "source": [
    "unscaled.columns.tolist()"
   ]
  },
  {
   "cell_type": "code",
   "execution_count": 47,
   "id": "c818b777-403f-40e0-a469-abde01bb42e0",
   "metadata": {},
   "outputs": [
    {
     "data": {
      "text/plain": [
       "(22950, 137)"
      ]
     },
     "execution_count": 47,
     "metadata": {},
     "output_type": "execute_result"
    }
   ],
   "source": [
    "unscaled.shape"
   ]
  },
  {
   "cell_type": "code",
   "execution_count": 49,
   "id": "1cb75e84-c212-4e5f-a255-7e6f30989b5a",
   "metadata": {},
   "outputs": [
    {
     "data": {
      "text/html": [
       "<div>\n",
       "<style scoped>\n",
       "    .dataframe tbody tr th:only-of-type {\n",
       "        vertical-align: middle;\n",
       "    }\n",
       "\n",
       "    .dataframe tbody tr th {\n",
       "        vertical-align: top;\n",
       "    }\n",
       "\n",
       "    .dataframe thead th {\n",
       "        text-align: right;\n",
       "    }\n",
       "</style>\n",
       "<table border=\"1\" class=\"dataframe\">\n",
       "  <thead>\n",
       "    <tr style=\"text-align: right;\">\n",
       "      <th></th>\n",
       "      <th>DATE</th>\n",
       "      <th>BASEL_pleasant_weather</th>\n",
       "      <th>BELGRADE_pleasant_weather</th>\n",
       "      <th>BUDAPEST_pleasant_weather</th>\n",
       "      <th>DEBILT_pleasant_weather</th>\n",
       "      <th>DUSSELDORF_pleasant_weather</th>\n",
       "      <th>HEATHROW_pleasant_weather</th>\n",
       "      <th>KASSEL_pleasant_weather</th>\n",
       "      <th>LJUBLJANA_pleasant_weather</th>\n",
       "      <th>MAASTRICHT_pleasant_weather</th>\n",
       "      <th>MADRID_pleasant_weather</th>\n",
       "      <th>MUNCHENB_pleasant_weather</th>\n",
       "      <th>OSLO_pleasant_weather</th>\n",
       "      <th>SONNBLICK_pleasant_weather</th>\n",
       "      <th>STOCKHOLM_pleasant_weather</th>\n",
       "      <th>VALENTIA_pleasant_weather</th>\n",
       "    </tr>\n",
       "  </thead>\n",
       "  <tbody>\n",
       "    <tr>\n",
       "      <th>0</th>\n",
       "      <td>19600101</td>\n",
       "      <td>0</td>\n",
       "      <td>0</td>\n",
       "      <td>0</td>\n",
       "      <td>0</td>\n",
       "      <td>0</td>\n",
       "      <td>0</td>\n",
       "      <td>0</td>\n",
       "      <td>0</td>\n",
       "      <td>0</td>\n",
       "      <td>0</td>\n",
       "      <td>0</td>\n",
       "      <td>0</td>\n",
       "      <td>0</td>\n",
       "      <td>0</td>\n",
       "      <td>0</td>\n",
       "    </tr>\n",
       "    <tr>\n",
       "      <th>1</th>\n",
       "      <td>19600102</td>\n",
       "      <td>0</td>\n",
       "      <td>0</td>\n",
       "      <td>0</td>\n",
       "      <td>0</td>\n",
       "      <td>0</td>\n",
       "      <td>0</td>\n",
       "      <td>0</td>\n",
       "      <td>0</td>\n",
       "      <td>0</td>\n",
       "      <td>0</td>\n",
       "      <td>0</td>\n",
       "      <td>0</td>\n",
       "      <td>0</td>\n",
       "      <td>0</td>\n",
       "      <td>0</td>\n",
       "    </tr>\n",
       "    <tr>\n",
       "      <th>2</th>\n",
       "      <td>19600103</td>\n",
       "      <td>0</td>\n",
       "      <td>0</td>\n",
       "      <td>0</td>\n",
       "      <td>0</td>\n",
       "      <td>0</td>\n",
       "      <td>0</td>\n",
       "      <td>0</td>\n",
       "      <td>0</td>\n",
       "      <td>0</td>\n",
       "      <td>0</td>\n",
       "      <td>0</td>\n",
       "      <td>0</td>\n",
       "      <td>0</td>\n",
       "      <td>0</td>\n",
       "      <td>0</td>\n",
       "    </tr>\n",
       "    <tr>\n",
       "      <th>3</th>\n",
       "      <td>19600104</td>\n",
       "      <td>0</td>\n",
       "      <td>0</td>\n",
       "      <td>0</td>\n",
       "      <td>0</td>\n",
       "      <td>0</td>\n",
       "      <td>0</td>\n",
       "      <td>0</td>\n",
       "      <td>0</td>\n",
       "      <td>0</td>\n",
       "      <td>0</td>\n",
       "      <td>0</td>\n",
       "      <td>0</td>\n",
       "      <td>0</td>\n",
       "      <td>0</td>\n",
       "      <td>0</td>\n",
       "    </tr>\n",
       "    <tr>\n",
       "      <th>4</th>\n",
       "      <td>19600105</td>\n",
       "      <td>0</td>\n",
       "      <td>0</td>\n",
       "      <td>0</td>\n",
       "      <td>0</td>\n",
       "      <td>0</td>\n",
       "      <td>0</td>\n",
       "      <td>0</td>\n",
       "      <td>0</td>\n",
       "      <td>0</td>\n",
       "      <td>0</td>\n",
       "      <td>0</td>\n",
       "      <td>0</td>\n",
       "      <td>0</td>\n",
       "      <td>0</td>\n",
       "      <td>0</td>\n",
       "    </tr>\n",
       "  </tbody>\n",
       "</table>\n",
       "</div>"
      ],
      "text/plain": [
       "       DATE  BASEL_pleasant_weather  BELGRADE_pleasant_weather  \\\n",
       "0  19600101                       0                          0   \n",
       "1  19600102                       0                          0   \n",
       "2  19600103                       0                          0   \n",
       "3  19600104                       0                          0   \n",
       "4  19600105                       0                          0   \n",
       "\n",
       "   BUDAPEST_pleasant_weather  DEBILT_pleasant_weather  \\\n",
       "0                          0                        0   \n",
       "1                          0                        0   \n",
       "2                          0                        0   \n",
       "3                          0                        0   \n",
       "4                          0                        0   \n",
       "\n",
       "   DUSSELDORF_pleasant_weather  HEATHROW_pleasant_weather  \\\n",
       "0                            0                          0   \n",
       "1                            0                          0   \n",
       "2                            0                          0   \n",
       "3                            0                          0   \n",
       "4                            0                          0   \n",
       "\n",
       "   KASSEL_pleasant_weather  LJUBLJANA_pleasant_weather  \\\n",
       "0                        0                           0   \n",
       "1                        0                           0   \n",
       "2                        0                           0   \n",
       "3                        0                           0   \n",
       "4                        0                           0   \n",
       "\n",
       "   MAASTRICHT_pleasant_weather  MADRID_pleasant_weather  \\\n",
       "0                            0                        0   \n",
       "1                            0                        0   \n",
       "2                            0                        0   \n",
       "3                            0                        0   \n",
       "4                            0                        0   \n",
       "\n",
       "   MUNCHENB_pleasant_weather  OSLO_pleasant_weather  \\\n",
       "0                          0                      0   \n",
       "1                          0                      0   \n",
       "2                          0                      0   \n",
       "3                          0                      0   \n",
       "4                          0                      0   \n",
       "\n",
       "   SONNBLICK_pleasant_weather  STOCKHOLM_pleasant_weather  \\\n",
       "0                           0                           0   \n",
       "1                           0                           0   \n",
       "2                           0                           0   \n",
       "3                           0                           0   \n",
       "4                           0                           0   \n",
       "\n",
       "   VALENTIA_pleasant_weather  \n",
       "0                          0  \n",
       "1                          0  \n",
       "2                          0  \n",
       "3                          0  \n",
       "4                          0  "
      ]
     },
     "execution_count": 49,
     "metadata": {},
     "output_type": "execute_result"
    }
   ],
   "source": [
    "prediction.head()"
   ]
  },
  {
   "cell_type": "code",
   "execution_count": 51,
   "id": "6ee317f9-e265-432b-8dd9-9c1b499f66a5",
   "metadata": {},
   "outputs": [],
   "source": [
    "# drop unneeded column from second dataset\n",
    "prediction.drop(columns = 'DATE', inplace = True)"
   ]
  },
  {
   "cell_type": "code",
   "execution_count": 53,
   "id": "8c378b96-d557-46de-9c51-4f334c51fb82",
   "metadata": {},
   "outputs": [
    {
     "data": {
      "text/html": [
       "<div>\n",
       "<style scoped>\n",
       "    .dataframe tbody tr th:only-of-type {\n",
       "        vertical-align: middle;\n",
       "    }\n",
       "\n",
       "    .dataframe tbody tr th {\n",
       "        vertical-align: top;\n",
       "    }\n",
       "\n",
       "    .dataframe thead th {\n",
       "        text-align: right;\n",
       "    }\n",
       "</style>\n",
       "<table border=\"1\" class=\"dataframe\">\n",
       "  <thead>\n",
       "    <tr style=\"text-align: right;\">\n",
       "      <th></th>\n",
       "      <th>BASEL_pleasant_weather</th>\n",
       "      <th>BELGRADE_pleasant_weather</th>\n",
       "      <th>BUDAPEST_pleasant_weather</th>\n",
       "      <th>DEBILT_pleasant_weather</th>\n",
       "      <th>DUSSELDORF_pleasant_weather</th>\n",
       "      <th>HEATHROW_pleasant_weather</th>\n",
       "      <th>KASSEL_pleasant_weather</th>\n",
       "      <th>LJUBLJANA_pleasant_weather</th>\n",
       "      <th>MAASTRICHT_pleasant_weather</th>\n",
       "      <th>MADRID_pleasant_weather</th>\n",
       "      <th>MUNCHENB_pleasant_weather</th>\n",
       "      <th>OSLO_pleasant_weather</th>\n",
       "      <th>SONNBLICK_pleasant_weather</th>\n",
       "      <th>STOCKHOLM_pleasant_weather</th>\n",
       "      <th>VALENTIA_pleasant_weather</th>\n",
       "    </tr>\n",
       "  </thead>\n",
       "  <tbody>\n",
       "    <tr>\n",
       "      <th>0</th>\n",
       "      <td>0</td>\n",
       "      <td>0</td>\n",
       "      <td>0</td>\n",
       "      <td>0</td>\n",
       "      <td>0</td>\n",
       "      <td>0</td>\n",
       "      <td>0</td>\n",
       "      <td>0</td>\n",
       "      <td>0</td>\n",
       "      <td>0</td>\n",
       "      <td>0</td>\n",
       "      <td>0</td>\n",
       "      <td>0</td>\n",
       "      <td>0</td>\n",
       "      <td>0</td>\n",
       "    </tr>\n",
       "    <tr>\n",
       "      <th>1</th>\n",
       "      <td>0</td>\n",
       "      <td>0</td>\n",
       "      <td>0</td>\n",
       "      <td>0</td>\n",
       "      <td>0</td>\n",
       "      <td>0</td>\n",
       "      <td>0</td>\n",
       "      <td>0</td>\n",
       "      <td>0</td>\n",
       "      <td>0</td>\n",
       "      <td>0</td>\n",
       "      <td>0</td>\n",
       "      <td>0</td>\n",
       "      <td>0</td>\n",
       "      <td>0</td>\n",
       "    </tr>\n",
       "    <tr>\n",
       "      <th>2</th>\n",
       "      <td>0</td>\n",
       "      <td>0</td>\n",
       "      <td>0</td>\n",
       "      <td>0</td>\n",
       "      <td>0</td>\n",
       "      <td>0</td>\n",
       "      <td>0</td>\n",
       "      <td>0</td>\n",
       "      <td>0</td>\n",
       "      <td>0</td>\n",
       "      <td>0</td>\n",
       "      <td>0</td>\n",
       "      <td>0</td>\n",
       "      <td>0</td>\n",
       "      <td>0</td>\n",
       "    </tr>\n",
       "    <tr>\n",
       "      <th>3</th>\n",
       "      <td>0</td>\n",
       "      <td>0</td>\n",
       "      <td>0</td>\n",
       "      <td>0</td>\n",
       "      <td>0</td>\n",
       "      <td>0</td>\n",
       "      <td>0</td>\n",
       "      <td>0</td>\n",
       "      <td>0</td>\n",
       "      <td>0</td>\n",
       "      <td>0</td>\n",
       "      <td>0</td>\n",
       "      <td>0</td>\n",
       "      <td>0</td>\n",
       "      <td>0</td>\n",
       "    </tr>\n",
       "    <tr>\n",
       "      <th>4</th>\n",
       "      <td>0</td>\n",
       "      <td>0</td>\n",
       "      <td>0</td>\n",
       "      <td>0</td>\n",
       "      <td>0</td>\n",
       "      <td>0</td>\n",
       "      <td>0</td>\n",
       "      <td>0</td>\n",
       "      <td>0</td>\n",
       "      <td>0</td>\n",
       "      <td>0</td>\n",
       "      <td>0</td>\n",
       "      <td>0</td>\n",
       "      <td>0</td>\n",
       "      <td>0</td>\n",
       "    </tr>\n",
       "  </tbody>\n",
       "</table>\n",
       "</div>"
      ],
      "text/plain": [
       "   BASEL_pleasant_weather  BELGRADE_pleasant_weather  \\\n",
       "0                       0                          0   \n",
       "1                       0                          0   \n",
       "2                       0                          0   \n",
       "3                       0                          0   \n",
       "4                       0                          0   \n",
       "\n",
       "   BUDAPEST_pleasant_weather  DEBILT_pleasant_weather  \\\n",
       "0                          0                        0   \n",
       "1                          0                        0   \n",
       "2                          0                        0   \n",
       "3                          0                        0   \n",
       "4                          0                        0   \n",
       "\n",
       "   DUSSELDORF_pleasant_weather  HEATHROW_pleasant_weather  \\\n",
       "0                            0                          0   \n",
       "1                            0                          0   \n",
       "2                            0                          0   \n",
       "3                            0                          0   \n",
       "4                            0                          0   \n",
       "\n",
       "   KASSEL_pleasant_weather  LJUBLJANA_pleasant_weather  \\\n",
       "0                        0                           0   \n",
       "1                        0                           0   \n",
       "2                        0                           0   \n",
       "3                        0                           0   \n",
       "4                        0                           0   \n",
       "\n",
       "   MAASTRICHT_pleasant_weather  MADRID_pleasant_weather  \\\n",
       "0                            0                        0   \n",
       "1                            0                        0   \n",
       "2                            0                        0   \n",
       "3                            0                        0   \n",
       "4                            0                        0   \n",
       "\n",
       "   MUNCHENB_pleasant_weather  OSLO_pleasant_weather  \\\n",
       "0                          0                      0   \n",
       "1                          0                      0   \n",
       "2                          0                      0   \n",
       "3                          0                      0   \n",
       "4                          0                      0   \n",
       "\n",
       "   SONNBLICK_pleasant_weather  STOCKHOLM_pleasant_weather  \\\n",
       "0                           0                           0   \n",
       "1                           0                           0   \n",
       "2                           0                           0   \n",
       "3                           0                           0   \n",
       "4                           0                           0   \n",
       "\n",
       "   VALENTIA_pleasant_weather  \n",
       "0                          0  \n",
       "1                          0  \n",
       "2                          0  \n",
       "3                          0  \n",
       "4                          0  "
      ]
     },
     "execution_count": 53,
     "metadata": {},
     "output_type": "execute_result"
    }
   ],
   "source": [
    "# Now, confirm drop\n",
    "prediction.head()"
   ]
  },
  {
   "cell_type": "code",
   "execution_count": 55,
   "id": "7825ef40-d0a7-4e00-b704-23a248eab73c",
   "metadata": {},
   "outputs": [
    {
     "data": {
      "text/plain": [
       "(22950, 15)"
      ]
     },
     "execution_count": 55,
     "metadata": {},
     "output_type": "execute_result"
    }
   ],
   "source": [
    "prediction.shape"
   ]
  },
  {
   "cell_type": "code",
   "execution_count": 57,
   "id": "eb85b2bb-4f27-495e-a2a7-56a0f0b55c4f",
   "metadata": {},
   "outputs": [],
   "source": [
    "# Export cleaned dataset\n",
    "unscaled.to_csv(os.path.join(path, 'weather_cleaned.csv'), index=False)"
   ]
  },
  {
   "cell_type": "markdown",
   "id": "970d86a3-9ad1-47b1-8336-aad1f66724c0",
   "metadata": {},
   "source": [
    "## Data Reshape"
   ]
  },
  {
   "cell_type": "code",
   "execution_count": 71,
   "id": "fcaffeee-b575-439a-9be6-79fcf2c019b8",
   "metadata": {},
   "outputs": [],
   "source": [
    "# Creat an 'X' matrix by reloading and naming our data 'X'\n",
    "X = pd.read_csv(os.path.join(path,'weather_cleaned.csv'), index_col=False)"
   ]
  },
  {
   "cell_type": "code",
   "execution_count": 73,
   "id": "2e447dae-1acf-4a97-bc5b-0f82cd943efc",
   "metadata": {},
   "outputs": [
    {
     "data": {
      "text/html": [
       "<div>\n",
       "<style scoped>\n",
       "    .dataframe tbody tr th:only-of-type {\n",
       "        vertical-align: middle;\n",
       "    }\n",
       "\n",
       "    .dataframe tbody tr th {\n",
       "        vertical-align: top;\n",
       "    }\n",
       "\n",
       "    .dataframe thead th {\n",
       "        text-align: right;\n",
       "    }\n",
       "</style>\n",
       "<table border=\"1\" class=\"dataframe\">\n",
       "  <thead>\n",
       "    <tr style=\"text-align: right;\">\n",
       "      <th></th>\n",
       "      <th>BASEL_cloud_cover</th>\n",
       "      <th>BASEL_humidity</th>\n",
       "      <th>BASEL_pressure</th>\n",
       "      <th>BASEL_global_radiation</th>\n",
       "      <th>BASEL_precipitation</th>\n",
       "      <th>BASEL_sunshine</th>\n",
       "      <th>BASEL_temp_mean</th>\n",
       "      <th>BASEL_temp_min</th>\n",
       "      <th>BASEL_temp_max</th>\n",
       "      <th>BELGRADE_cloud_cover</th>\n",
       "      <th>...</th>\n",
       "      <th>STOCKHOLM_temp_max</th>\n",
       "      <th>VALENTIA_cloud_cover</th>\n",
       "      <th>VALENTIA_humidity</th>\n",
       "      <th>VALENTIA_pressure</th>\n",
       "      <th>VALENTIA_global_radiation</th>\n",
       "      <th>VALENTIA_precipitation</th>\n",
       "      <th>VALENTIA_sunshine</th>\n",
       "      <th>VALENTIA_temp_mean</th>\n",
       "      <th>VALENTIA_temp_min</th>\n",
       "      <th>VALENTIA_temp_max</th>\n",
       "    </tr>\n",
       "  </thead>\n",
       "  <tbody>\n",
       "    <tr>\n",
       "      <th>0</th>\n",
       "      <td>7</td>\n",
       "      <td>0.85</td>\n",
       "      <td>1.018</td>\n",
       "      <td>0.32</td>\n",
       "      <td>0.09</td>\n",
       "      <td>0.7</td>\n",
       "      <td>6.5</td>\n",
       "      <td>0.8</td>\n",
       "      <td>10.9</td>\n",
       "      <td>1</td>\n",
       "      <td>...</td>\n",
       "      <td>4.9</td>\n",
       "      <td>5</td>\n",
       "      <td>0.88</td>\n",
       "      <td>1.0003</td>\n",
       "      <td>0.45</td>\n",
       "      <td>0.34</td>\n",
       "      <td>4.7</td>\n",
       "      <td>8.5</td>\n",
       "      <td>6.0</td>\n",
       "      <td>10.9</td>\n",
       "    </tr>\n",
       "    <tr>\n",
       "      <th>1</th>\n",
       "      <td>6</td>\n",
       "      <td>0.84</td>\n",
       "      <td>1.018</td>\n",
       "      <td>0.36</td>\n",
       "      <td>1.05</td>\n",
       "      <td>1.1</td>\n",
       "      <td>6.1</td>\n",
       "      <td>3.3</td>\n",
       "      <td>10.1</td>\n",
       "      <td>6</td>\n",
       "      <td>...</td>\n",
       "      <td>5.0</td>\n",
       "      <td>7</td>\n",
       "      <td>0.91</td>\n",
       "      <td>1.0007</td>\n",
       "      <td>0.25</td>\n",
       "      <td>0.84</td>\n",
       "      <td>0.7</td>\n",
       "      <td>8.9</td>\n",
       "      <td>5.6</td>\n",
       "      <td>12.1</td>\n",
       "    </tr>\n",
       "    <tr>\n",
       "      <th>2</th>\n",
       "      <td>8</td>\n",
       "      <td>0.90</td>\n",
       "      <td>1.018</td>\n",
       "      <td>0.18</td>\n",
       "      <td>0.30</td>\n",
       "      <td>0.0</td>\n",
       "      <td>8.5</td>\n",
       "      <td>5.1</td>\n",
       "      <td>9.9</td>\n",
       "      <td>6</td>\n",
       "      <td>...</td>\n",
       "      <td>4.1</td>\n",
       "      <td>7</td>\n",
       "      <td>0.91</td>\n",
       "      <td>1.0096</td>\n",
       "      <td>0.17</td>\n",
       "      <td>0.08</td>\n",
       "      <td>0.1</td>\n",
       "      <td>10.5</td>\n",
       "      <td>8.1</td>\n",
       "      <td>12.9</td>\n",
       "    </tr>\n",
       "    <tr>\n",
       "      <th>3</th>\n",
       "      <td>3</td>\n",
       "      <td>0.92</td>\n",
       "      <td>1.018</td>\n",
       "      <td>0.58</td>\n",
       "      <td>0.00</td>\n",
       "      <td>4.1</td>\n",
       "      <td>6.3</td>\n",
       "      <td>3.8</td>\n",
       "      <td>10.6</td>\n",
       "      <td>8</td>\n",
       "      <td>...</td>\n",
       "      <td>2.3</td>\n",
       "      <td>7</td>\n",
       "      <td>0.86</td>\n",
       "      <td>1.0184</td>\n",
       "      <td>0.13</td>\n",
       "      <td>0.98</td>\n",
       "      <td>0.0</td>\n",
       "      <td>7.4</td>\n",
       "      <td>7.3</td>\n",
       "      <td>10.6</td>\n",
       "    </tr>\n",
       "    <tr>\n",
       "      <th>4</th>\n",
       "      <td>6</td>\n",
       "      <td>0.95</td>\n",
       "      <td>1.018</td>\n",
       "      <td>0.65</td>\n",
       "      <td>0.14</td>\n",
       "      <td>5.4</td>\n",
       "      <td>3.0</td>\n",
       "      <td>-0.7</td>\n",
       "      <td>6.0</td>\n",
       "      <td>8</td>\n",
       "      <td>...</td>\n",
       "      <td>4.3</td>\n",
       "      <td>3</td>\n",
       "      <td>0.80</td>\n",
       "      <td>1.0328</td>\n",
       "      <td>0.46</td>\n",
       "      <td>0.00</td>\n",
       "      <td>5.7</td>\n",
       "      <td>5.7</td>\n",
       "      <td>3.0</td>\n",
       "      <td>8.4</td>\n",
       "    </tr>\n",
       "  </tbody>\n",
       "</table>\n",
       "<p>5 rows × 135 columns</p>\n",
       "</div>"
      ],
      "text/plain": [
       "   BASEL_cloud_cover  BASEL_humidity  BASEL_pressure  BASEL_global_radiation  \\\n",
       "0                  7            0.85           1.018                    0.32   \n",
       "1                  6            0.84           1.018                    0.36   \n",
       "2                  8            0.90           1.018                    0.18   \n",
       "3                  3            0.92           1.018                    0.58   \n",
       "4                  6            0.95           1.018                    0.65   \n",
       "\n",
       "   BASEL_precipitation  BASEL_sunshine  BASEL_temp_mean  BASEL_temp_min  \\\n",
       "0                 0.09             0.7              6.5             0.8   \n",
       "1                 1.05             1.1              6.1             3.3   \n",
       "2                 0.30             0.0              8.5             5.1   \n",
       "3                 0.00             4.1              6.3             3.8   \n",
       "4                 0.14             5.4              3.0            -0.7   \n",
       "\n",
       "   BASEL_temp_max  BELGRADE_cloud_cover  ...  STOCKHOLM_temp_max  \\\n",
       "0            10.9                     1  ...                 4.9   \n",
       "1            10.1                     6  ...                 5.0   \n",
       "2             9.9                     6  ...                 4.1   \n",
       "3            10.6                     8  ...                 2.3   \n",
       "4             6.0                     8  ...                 4.3   \n",
       "\n",
       "   VALENTIA_cloud_cover  VALENTIA_humidity  VALENTIA_pressure  \\\n",
       "0                     5               0.88             1.0003   \n",
       "1                     7               0.91             1.0007   \n",
       "2                     7               0.91             1.0096   \n",
       "3                     7               0.86             1.0184   \n",
       "4                     3               0.80             1.0328   \n",
       "\n",
       "   VALENTIA_global_radiation  VALENTIA_precipitation  VALENTIA_sunshine  \\\n",
       "0                       0.45                    0.34                4.7   \n",
       "1                       0.25                    0.84                0.7   \n",
       "2                       0.17                    0.08                0.1   \n",
       "3                       0.13                    0.98                0.0   \n",
       "4                       0.46                    0.00                5.7   \n",
       "\n",
       "   VALENTIA_temp_mean  VALENTIA_temp_min  VALENTIA_temp_max  \n",
       "0                 8.5                6.0               10.9  \n",
       "1                 8.9                5.6               12.1  \n",
       "2                10.5                8.1               12.9  \n",
       "3                 7.4                7.3               10.6  \n",
       "4                 5.7                3.0                8.4  \n",
       "\n",
       "[5 rows x 135 columns]"
      ]
     },
     "execution_count": 73,
     "metadata": {},
     "output_type": "execute_result"
    }
   ],
   "source": [
    "X.head()"
   ]
  },
  {
   "cell_type": "code",
   "execution_count": 75,
   "id": "76db4592-7b38-4829-8709-4b9b879f0698",
   "metadata": {},
   "outputs": [],
   "source": [
    "y = prediction"
   ]
  },
  {
   "cell_type": "code",
   "execution_count": 77,
   "id": "2944a43d-dfad-42f6-819e-71548059ca31",
   "metadata": {},
   "outputs": [
    {
     "data": {
      "text/plain": [
       "(22950, 135)"
      ]
     },
     "execution_count": 77,
     "metadata": {},
     "output_type": "execute_result"
    }
   ],
   "source": [
    "X.shape"
   ]
  },
  {
   "cell_type": "code",
   "execution_count": 79,
   "id": "79338f5d-7168-4e7f-9fb6-d2f7129d0f78",
   "metadata": {},
   "outputs": [
    {
     "data": {
      "text/plain": [
       "array([[ 7.    ,  0.85  ,  1.018 , ...,  8.5   ,  6.    , 10.9   ],\n",
       "       [ 6.    ,  0.84  ,  1.018 , ...,  8.9   ,  5.6   , 12.1   ],\n",
       "       [ 8.    ,  0.9   ,  1.018 , ..., 10.5   ,  8.1   , 12.9   ],\n",
       "       ...,\n",
       "       [ 4.    ,  0.76  ,  1.0227, ..., 10.7   ,  7.9   , 13.5   ],\n",
       "       [ 5.    ,  0.8   ,  1.0212, ..., 10.7   ,  7.9   , 13.5   ],\n",
       "       [ 5.    ,  0.84  ,  1.0193, ..., 10.7   ,  7.9   , 13.5   ]])"
      ]
     },
     "execution_count": 79,
     "metadata": {},
     "output_type": "execute_result"
    }
   ],
   "source": [
    "# Turn X and y into arrays\n",
    "X = np.array(X)\n",
    "y = np.array(y)\n",
    "X"
   ]
  },
  {
   "cell_type": "code",
   "execution_count": 81,
   "id": "6e7b5bac-54cb-4b85-8457-e2cb477b39a0",
   "metadata": {},
   "outputs": [],
   "source": [
    "X = X.reshape(-1,15,9)"
   ]
  },
  {
   "cell_type": "code",
   "execution_count": 83,
   "id": "b5228d38-da94-4c5e-984a-52b384c7c63c",
   "metadata": {},
   "outputs": [
    {
     "data": {
      "text/plain": [
       "(22950, 15, 9)"
      ]
     },
     "execution_count": 83,
     "metadata": {},
     "output_type": "execute_result"
    }
   ],
   "source": [
    "# Verify Shape\n",
    "X.shape"
   ]
  },
  {
   "cell_type": "code",
   "execution_count": 85,
   "id": "a9b7f89a-c8f7-4ef2-8e53-91189e6742d2",
   "metadata": {},
   "outputs": [
    {
     "data": {
      "text/plain": [
       "(22950, 15)"
      ]
     },
     "execution_count": 85,
     "metadata": {},
     "output_type": "execute_result"
    }
   ],
   "source": [
    "# Verify Shape\n",
    "y.shape"
   ]
  },
  {
   "cell_type": "code",
   "execution_count": 87,
   "id": "f804f360-60c1-4e24-ac08-17dae6989d1d",
   "metadata": {},
   "outputs": [
    {
     "data": {
      "text/plain": [
       "array([[[  7.    ,   0.85  ,   1.018 , ...,   6.5   ,   0.8   ,\n",
       "          10.9   ],\n",
       "        [  1.    ,   0.81  ,   1.0195, ...,   3.7   ,  -0.9   ,\n",
       "           7.9   ],\n",
       "        [  4.    ,   0.67  ,   1.017 , ...,   2.4   ,  -0.4   ,\n",
       "           5.1   ],\n",
       "        ...,\n",
       "        [  4.    ,   0.73  ,   1.0304, ...,  -5.9   ,  -8.5   ,\n",
       "          -3.2   ],\n",
       "        [  5.    ,   0.98  ,   1.0114, ...,   4.2   ,   2.2   ,\n",
       "           4.9   ],\n",
       "        [  5.    ,   0.88  ,   1.0003, ...,   8.5   ,   6.    ,\n",
       "          10.9   ]],\n",
       "\n",
       "       [[  6.    ,   0.84  ,   1.018 , ...,   6.1   ,   3.3   ,\n",
       "          10.1   ],\n",
       "        [  6.    ,   0.84  ,   1.0172, ...,   2.9   ,   2.2   ,\n",
       "           4.4   ],\n",
       "        [  4.    ,   0.67  ,   1.017 , ...,   2.3   ,   1.4   ,\n",
       "           3.1   ],\n",
       "        ...,\n",
       "        [  6.    ,   0.97  ,   1.0292, ...,  -9.5   , -10.5   ,\n",
       "          -8.5   ],\n",
       "        [  5.    ,   0.62  ,   1.0114, ...,   4.    ,   3.    ,\n",
       "           5.    ],\n",
       "        [  7.    ,   0.91  ,   1.0007, ...,   8.9   ,   5.6   ,\n",
       "          12.1   ]],\n",
       "\n",
       "       [[  8.    ,   0.9   ,   1.018 , ...,   8.5   ,   5.1   ,\n",
       "           9.9   ],\n",
       "        [  6.    ,   0.77  ,   1.0179, ...,   3.1   ,  -0.5   ,\n",
       "           6.4   ],\n",
       "        [  4.    ,   0.67  ,   1.017 , ...,   2.7   ,   1.7   ,\n",
       "           5.3   ],\n",
       "        ...,\n",
       "        [  8.    ,   0.93  ,   1.032 , ...,  -9.5   , -10.    ,\n",
       "          -8.9   ],\n",
       "        [  5.    ,   0.69  ,   1.0114, ...,   2.4   ,   1.3   ,\n",
       "           4.1   ],\n",
       "        [  7.    ,   0.91  ,   1.0096, ...,  10.5   ,   8.1   ,\n",
       "          12.9   ]],\n",
       "\n",
       "       ...,\n",
       "\n",
       "       [[  4.    ,   0.76  ,   1.0227, ...,  16.7   ,  13.1   ,\n",
       "          22.4   ],\n",
       "        [  2.    ,   0.68  ,   1.0278, ...,  13.4   ,   8.6   ,\n",
       "          18.2   ],\n",
       "        [  4.    ,   0.67  ,   1.017 , ...,  11.7   ,   7.9   ,\n",
       "          16.2   ],\n",
       "        ...,\n",
       "        [  3.    ,   0.84  ,   1.0263, ...,   3.3   ,   2.1   ,\n",
       "           4.5   ],\n",
       "        [  5.    ,   0.85  ,   1.0059, ...,  13.1   ,  12.1   ,\n",
       "          14.4   ],\n",
       "        [  5.    ,   0.82  ,   1.0142, ...,  10.7   ,   7.9   ,\n",
       "          13.5   ]],\n",
       "\n",
       "       [[  5.    ,   0.8   ,   1.0212, ...,  15.4   ,  11.6   ,\n",
       "          21.1   ],\n",
       "        [  1.    ,   0.68  ,   1.0238, ...,  15.    ,   9.1   ,\n",
       "          20.9   ],\n",
       "        [  4.    ,   0.67  ,   1.017 , ...,  11.7   ,   7.9   ,\n",
       "          16.2   ],\n",
       "        ...,\n",
       "        [  3.    ,   0.84  ,   1.0263, ...,   3.4   ,   2.7   ,\n",
       "           4.1   ],\n",
       "        [  5.    ,   0.94  ,   1.016 , ...,   7.5   ,   5.1   ,\n",
       "          12.4   ],\n",
       "        [  5.    ,   0.82  ,   1.0142, ...,  10.7   ,   7.9   ,\n",
       "          13.5   ]],\n",
       "\n",
       "       [[  5.    ,   0.84  ,   1.0193, ...,  13.5   ,   9.9   ,\n",
       "          19.2   ],\n",
       "        [  4.    ,   0.68  ,   1.0235, ...,  14.4   ,  10.4   ,\n",
       "          18.4   ],\n",
       "        [  4.    ,   0.67  ,   1.017 , ...,  11.7   ,   7.9   ,\n",
       "          16.2   ],\n",
       "        ...,\n",
       "        [  4.    ,   0.84  ,   1.0263, ...,   1.7   ,   0.7   ,\n",
       "           2.7   ],\n",
       "        [  5.    ,   0.97  ,   1.0164, ...,   9.7   ,   5.    ,\n",
       "          12.6   ],\n",
       "        [  5.    ,   0.82  ,   1.0142, ...,  10.7   ,   7.9   ,\n",
       "          13.5   ]]])"
      ]
     },
     "execution_count": 87,
     "metadata": {},
     "output_type": "execute_result"
    }
   ],
   "source": [
    "X"
   ]
  },
  {
   "cell_type": "markdown",
   "id": "b27defcc-a183-4168-9c07-19648bb01bd2",
   "metadata": {},
   "source": [
    "## Data Splitting "
   ]
  },
  {
   "cell_type": "code",
   "execution_count": 90,
   "id": "ff462f71-14c6-4145-8d6c-4a004b4dbb4b",
   "metadata": {},
   "outputs": [],
   "source": [
    "# Split data into train and test sets\n",
    "\n",
    "X_train, X_test, y_train, y_test = train_test_split(X,y,random_state = 42)"
   ]
  },
  {
   "cell_type": "code",
   "execution_count": 92,
   "id": "1e59c418-d31e-4ead-a18b-1cc9c6d739fa",
   "metadata": {},
   "outputs": [
    {
     "name": "stdout",
     "output_type": "stream",
     "text": [
      "(17212, 15, 9) (17212, 15)\n",
      "(5738, 15, 9) (5738, 15)\n"
     ]
    }
   ],
   "source": [
    "print(X_train.shape, y_train.shape)\n",
    "print(X_test.shape, y_test.shape)"
   ]
  },
  {
   "cell_type": "markdown",
   "id": "e9089117-f6c1-4d98-840b-72c79a6dd9f2",
   "metadata": {},
   "source": [
    "## Keras Model"
   ]
  },
  {
   "cell_type": "code",
   "execution_count": 95,
   "id": "9eead105-87bf-4248-8a47-544be343b96b",
   "metadata": {},
   "outputs": [],
   "source": [
    "epochs = 30\n",
    "batch_size = 16\n",
    "n_hidden = 32\n",
    "\n",
    "timesteps = len(X_train[0])\n",
    "input_dim = len(X_train[0][0])\n",
    "n_classes = len(y_train[0])\n",
    "\n",
    "model = Sequential()\n",
    "model.add(Conv1D(n_hidden, kernel_size=2, activation='relu', input_shape=(timesteps, input_dim)))\n",
    "model.add(Dense(16, activation='relu'))\n",
    "model.add(MaxPooling1D())\n",
    "model.add(Flatten())\n",
    "model.add(Dense(n_classes, activation='softmax')) # Options: sigmoid, tanh, softmax, relu"
   ]
  },
  {
   "cell_type": "code",
   "execution_count": 97,
   "id": "6b4d118e-0237-4f9b-9e89-ae1cb81b8760",
   "metadata": {},
   "outputs": [
    {
     "data": {
      "text/html": [
       "<pre style=\"white-space:pre;overflow-x:auto;line-height:normal;font-family:Menlo,'DejaVu Sans Mono',consolas,'Courier New',monospace\"><span style=\"font-weight: bold\">Model: \"sequential\"</span>\n",
       "</pre>\n"
      ],
      "text/plain": [
       "\u001b[1mModel: \"sequential\"\u001b[0m\n"
      ]
     },
     "metadata": {},
     "output_type": "display_data"
    },
    {
     "data": {
      "text/html": [
       "<pre style=\"white-space:pre;overflow-x:auto;line-height:normal;font-family:Menlo,'DejaVu Sans Mono',consolas,'Courier New',monospace\">┏━━━━━━━━━━━━━━━━━━━━━━━━━━━━━━━━━┳━━━━━━━━━━━━━━━━━━━━━━━━┳━━━━━━━━━━━━━━━┓\n",
       "┃<span style=\"font-weight: bold\"> Layer (type)                    </span>┃<span style=\"font-weight: bold\"> Output Shape           </span>┃<span style=\"font-weight: bold\">       Param # </span>┃\n",
       "┡━━━━━━━━━━━━━━━━━━━━━━━━━━━━━━━━━╇━━━━━━━━━━━━━━━━━━━━━━━━╇━━━━━━━━━━━━━━━┩\n",
       "│ conv1d (<span style=\"color: #0087ff; text-decoration-color: #0087ff\">Conv1D</span>)                 │ (<span style=\"color: #00d7ff; text-decoration-color: #00d7ff\">None</span>, <span style=\"color: #00af00; text-decoration-color: #00af00\">14</span>, <span style=\"color: #00af00; text-decoration-color: #00af00\">32</span>)         │           <span style=\"color: #00af00; text-decoration-color: #00af00\">608</span> │\n",
       "├─────────────────────────────────┼────────────────────────┼───────────────┤\n",
       "│ dense (<span style=\"color: #0087ff; text-decoration-color: #0087ff\">Dense</span>)                   │ (<span style=\"color: #00d7ff; text-decoration-color: #00d7ff\">None</span>, <span style=\"color: #00af00; text-decoration-color: #00af00\">14</span>, <span style=\"color: #00af00; text-decoration-color: #00af00\">16</span>)         │           <span style=\"color: #00af00; text-decoration-color: #00af00\">528</span> │\n",
       "├─────────────────────────────────┼────────────────────────┼───────────────┤\n",
       "│ max_pooling1d (<span style=\"color: #0087ff; text-decoration-color: #0087ff\">MaxPooling1D</span>)    │ (<span style=\"color: #00d7ff; text-decoration-color: #00d7ff\">None</span>, <span style=\"color: #00af00; text-decoration-color: #00af00\">7</span>, <span style=\"color: #00af00; text-decoration-color: #00af00\">16</span>)          │             <span style=\"color: #00af00; text-decoration-color: #00af00\">0</span> │\n",
       "├─────────────────────────────────┼────────────────────────┼───────────────┤\n",
       "│ flatten (<span style=\"color: #0087ff; text-decoration-color: #0087ff\">Flatten</span>)               │ (<span style=\"color: #00d7ff; text-decoration-color: #00d7ff\">None</span>, <span style=\"color: #00af00; text-decoration-color: #00af00\">112</span>)            │             <span style=\"color: #00af00; text-decoration-color: #00af00\">0</span> │\n",
       "├─────────────────────────────────┼────────────────────────┼───────────────┤\n",
       "│ dense_1 (<span style=\"color: #0087ff; text-decoration-color: #0087ff\">Dense</span>)                 │ (<span style=\"color: #00d7ff; text-decoration-color: #00d7ff\">None</span>, <span style=\"color: #00af00; text-decoration-color: #00af00\">15</span>)             │         <span style=\"color: #00af00; text-decoration-color: #00af00\">1,695</span> │\n",
       "└─────────────────────────────────┴────────────────────────┴───────────────┘\n",
       "</pre>\n"
      ],
      "text/plain": [
       "┏━━━━━━━━━━━━━━━━━━━━━━━━━━━━━━━━━┳━━━━━━━━━━━━━━━━━━━━━━━━┳━━━━━━━━━━━━━━━┓\n",
       "┃\u001b[1m \u001b[0m\u001b[1mLayer (type)                   \u001b[0m\u001b[1m \u001b[0m┃\u001b[1m \u001b[0m\u001b[1mOutput Shape          \u001b[0m\u001b[1m \u001b[0m┃\u001b[1m \u001b[0m\u001b[1m      Param #\u001b[0m\u001b[1m \u001b[0m┃\n",
       "┡━━━━━━━━━━━━━━━━━━━━━━━━━━━━━━━━━╇━━━━━━━━━━━━━━━━━━━━━━━━╇━━━━━━━━━━━━━━━┩\n",
       "│ conv1d (\u001b[38;5;33mConv1D\u001b[0m)                 │ (\u001b[38;5;45mNone\u001b[0m, \u001b[38;5;34m14\u001b[0m, \u001b[38;5;34m32\u001b[0m)         │           \u001b[38;5;34m608\u001b[0m │\n",
       "├─────────────────────────────────┼────────────────────────┼───────────────┤\n",
       "│ dense (\u001b[38;5;33mDense\u001b[0m)                   │ (\u001b[38;5;45mNone\u001b[0m, \u001b[38;5;34m14\u001b[0m, \u001b[38;5;34m16\u001b[0m)         │           \u001b[38;5;34m528\u001b[0m │\n",
       "├─────────────────────────────────┼────────────────────────┼───────────────┤\n",
       "│ max_pooling1d (\u001b[38;5;33mMaxPooling1D\u001b[0m)    │ (\u001b[38;5;45mNone\u001b[0m, \u001b[38;5;34m7\u001b[0m, \u001b[38;5;34m16\u001b[0m)          │             \u001b[38;5;34m0\u001b[0m │\n",
       "├─────────────────────────────────┼────────────────────────┼───────────────┤\n",
       "│ flatten (\u001b[38;5;33mFlatten\u001b[0m)               │ (\u001b[38;5;45mNone\u001b[0m, \u001b[38;5;34m112\u001b[0m)            │             \u001b[38;5;34m0\u001b[0m │\n",
       "├─────────────────────────────────┼────────────────────────┼───────────────┤\n",
       "│ dense_1 (\u001b[38;5;33mDense\u001b[0m)                 │ (\u001b[38;5;45mNone\u001b[0m, \u001b[38;5;34m15\u001b[0m)             │         \u001b[38;5;34m1,695\u001b[0m │\n",
       "└─────────────────────────────────┴────────────────────────┴───────────────┘\n"
      ]
     },
     "metadata": {},
     "output_type": "display_data"
    },
    {
     "data": {
      "text/html": [
       "<pre style=\"white-space:pre;overflow-x:auto;line-height:normal;font-family:Menlo,'DejaVu Sans Mono',consolas,'Courier New',monospace\"><span style=\"font-weight: bold\"> Total params: </span><span style=\"color: #00af00; text-decoration-color: #00af00\">2,831</span> (11.06 KB)\n",
       "</pre>\n"
      ],
      "text/plain": [
       "\u001b[1m Total params: \u001b[0m\u001b[38;5;34m2,831\u001b[0m (11.06 KB)\n"
      ]
     },
     "metadata": {},
     "output_type": "display_data"
    },
    {
     "data": {
      "text/html": [
       "<pre style=\"white-space:pre;overflow-x:auto;line-height:normal;font-family:Menlo,'DejaVu Sans Mono',consolas,'Courier New',monospace\"><span style=\"font-weight: bold\"> Trainable params: </span><span style=\"color: #00af00; text-decoration-color: #00af00\">2,831</span> (11.06 KB)\n",
       "</pre>\n"
      ],
      "text/plain": [
       "\u001b[1m Trainable params: \u001b[0m\u001b[38;5;34m2,831\u001b[0m (11.06 KB)\n"
      ]
     },
     "metadata": {},
     "output_type": "display_data"
    },
    {
     "data": {
      "text/html": [
       "<pre style=\"white-space:pre;overflow-x:auto;line-height:normal;font-family:Menlo,'DejaVu Sans Mono',consolas,'Courier New',monospace\"><span style=\"font-weight: bold\"> Non-trainable params: </span><span style=\"color: #00af00; text-decoration-color: #00af00\">0</span> (0.00 B)\n",
       "</pre>\n"
      ],
      "text/plain": [
       "\u001b[1m Non-trainable params: \u001b[0m\u001b[38;5;34m0\u001b[0m (0.00 B)\n"
      ]
     },
     "metadata": {},
     "output_type": "display_data"
    }
   ],
   "source": [
    "model.summary()"
   ]
  },
  {
   "cell_type": "markdown",
   "id": "93b1706b-538d-467c-a4cf-d900023303e4",
   "metadata": {},
   "source": [
    "## Compile and Running Model"
   ]
  },
  {
   "cell_type": "code",
   "execution_count": 100,
   "id": "432fda13-50ca-439e-91b6-1442ff9730ae",
   "metadata": {},
   "outputs": [],
   "source": [
    "model.compile(loss='categorical_crossentropy', optimizer='adam', metrics=['accuracy'])"
   ]
  },
  {
   "cell_type": "code",
   "execution_count": 102,
   "id": "e992350a-3629-4305-bb40-bb4a2589d857",
   "metadata": {},
   "outputs": [
    {
     "name": "stdout",
     "output_type": "stream",
     "text": [
      "Epoch 1/30\n",
      "1076/1076 - 12s - 11ms/step - accuracy: 0.1334 - loss: 5412.6689\n",
      "Epoch 2/30\n",
      "1076/1076 - 8s - 8ms/step - accuracy: 0.1339 - loss: 53711.4922\n",
      "Epoch 3/30\n",
      "1076/1076 - 12s - 11ms/step - accuracy: 0.1329 - loss: 184324.0781\n",
      "Epoch 4/30\n",
      "1076/1076 - 6s - 6ms/step - accuracy: 0.1311 - loss: 394287.6562\n",
      "Epoch 5/30\n",
      "1076/1076 - 7s - 6ms/step - accuracy: 0.1303 - loss: 699204.8750\n",
      "Epoch 6/30\n",
      "1076/1076 - 6s - 6ms/step - accuracy: 0.1340 - loss: 1131961.5000\n",
      "Epoch 7/30\n",
      "1076/1076 - 8s - 8ms/step - accuracy: 0.1318 - loss: 1659987.1250\n",
      "Epoch 8/30\n",
      "1076/1076 - 7s - 6ms/step - accuracy: 0.1300 - loss: 2337215.5000\n",
      "Epoch 9/30\n",
      "1076/1076 - 7s - 6ms/step - accuracy: 0.1287 - loss: 3101672.5000\n",
      "Epoch 10/30\n",
      "1076/1076 - 7s - 7ms/step - accuracy: 0.1301 - loss: 4050989.7500\n",
      "Epoch 11/30\n",
      "1076/1076 - 6s - 5ms/step - accuracy: 0.1322 - loss: 5097046.0000\n",
      "Epoch 12/30\n",
      "1076/1076 - 7s - 6ms/step - accuracy: 0.1305 - loss: 6289769.0000\n",
      "Epoch 13/30\n",
      "1076/1076 - 6s - 6ms/step - accuracy: 0.1347 - loss: 7685916.5000\n",
      "Epoch 14/30\n",
      "1076/1076 - 7s - 6ms/step - accuracy: 0.1324 - loss: 9358731.0000\n",
      "Epoch 15/30\n",
      "1076/1076 - 7s - 6ms/step - accuracy: 0.1300 - loss: 11218251.0000\n",
      "Epoch 16/30\n",
      "1076/1076 - 6s - 6ms/step - accuracy: 0.1330 - loss: 13169979.0000\n",
      "Epoch 17/30\n",
      "1076/1076 - 9s - 8ms/step - accuracy: 0.1312 - loss: 15345613.0000\n",
      "Epoch 18/30\n",
      "1076/1076 - 6s - 6ms/step - accuracy: 0.1323 - loss: 17739460.0000\n",
      "Epoch 19/30\n",
      "1076/1076 - 9s - 8ms/step - accuracy: 0.1301 - loss: 20501270.0000\n",
      "Epoch 20/30\n",
      "1076/1076 - 6s - 6ms/step - accuracy: 0.1307 - loss: 23516538.0000\n",
      "Epoch 21/30\n",
      "1076/1076 - 6s - 6ms/step - accuracy: 0.1264 - loss: 26876624.0000\n",
      "Epoch 22/30\n",
      "1076/1076 - 6s - 6ms/step - accuracy: 0.1341 - loss: 30351062.0000\n",
      "Epoch 23/30\n",
      "1076/1076 - 7s - 6ms/step - accuracy: 0.1310 - loss: 34209636.0000\n",
      "Epoch 24/30\n",
      "1076/1076 - 7s - 6ms/step - accuracy: 0.1275 - loss: 38411412.0000\n",
      "Epoch 25/30\n",
      "1076/1076 - 7s - 7ms/step - accuracy: 0.1254 - loss: 42700168.0000\n",
      "Epoch 26/30\n",
      "1076/1076 - 12s - 11ms/step - accuracy: 0.1236 - loss: 47496148.0000\n",
      "Epoch 27/30\n",
      "1076/1076 - 8s - 8ms/step - accuracy: 0.1233 - loss: 52682180.0000\n",
      "Epoch 28/30\n",
      "1076/1076 - 9s - 8ms/step - accuracy: 0.1257 - loss: 58023436.0000\n",
      "Epoch 29/30\n",
      "1076/1076 - 9s - 9ms/step - accuracy: 0.1262 - loss: 63823844.0000\n",
      "Epoch 30/30\n",
      "1076/1076 - 7s - 7ms/step - accuracy: 0.1277 - loss: 69863912.0000\n"
     ]
    },
    {
     "data": {
      "text/plain": [
       "<keras.src.callbacks.history.History at 0x174800a68a0>"
      ]
     },
     "execution_count": 102,
     "metadata": {},
     "output_type": "execute_result"
    }
   ],
   "source": [
    "model.fit(X_train, y_train, batch_size=batch_size, epochs=epochs, verbose=2)"
   ]
  },
  {
   "cell_type": "markdown",
   "id": "da0023c3-a795-434b-bf9c-44181b51f8cb",
   "metadata": {},
   "source": [
    "## Confusion Matrix"
   ]
  },
  {
   "cell_type": "code",
   "execution_count": 105,
   "id": "549797e5-5089-41a9-9f13-d4b9c04d6b30",
   "metadata": {},
   "outputs": [],
   "source": [
    "# Define list of stations names\n",
    "\n",
    "stations = {\n",
    "0: 'BASEL',\n",
    "1: 'BELGRADE',\n",
    "2: 'BUDAPEST',\n",
    "3: 'DEBILT',\n",
    "4: 'DUSSELDORF',\n",
    "5: 'HEATHROW',\n",
    "6: 'KASSEL',\n",
    "7: 'LJUBLJANA',\n",
    "8: 'MAASTRICHT',\n",
    "9: 'MADRID',\n",
    "10: 'MUNCHENB',\n",
    "11: 'OSLO',\n",
    "12: 'SONNBLICK',\n",
    "13: 'STOCKHOLM',\n",
    "14: 'VALENTIA'\n",
    "\n",
    "}"
   ]
  },
  {
   "cell_type": "code",
   "execution_count": 107,
   "id": "a3fae92e-9c06-4a3f-9ee1-884872bfc6bb",
   "metadata": {},
   "outputs": [],
   "source": [
    "def confusion_matrix(y_true, y_pred):\n",
    "    y_true = pd.Series([stations[y] for y in np.argmax(y_true, axis=1)])\n",
    "    y_pred = pd.Series([stations[y] for y in np.argmax(y_pred, axis=1)])\n",
    "\n",
    "    return pd.crosstab(y_true, y_pred, rownames=['True'], colnames=['Pred'])"
   ]
  },
  {
   "cell_type": "code",
   "execution_count": 109,
   "id": "d4d75190-f3f1-4555-9fa7-0e419525e0d4",
   "metadata": {},
   "outputs": [
    {
     "name": "stdout",
     "output_type": "stream",
     "text": [
      "\u001b[1m180/180\u001b[0m \u001b[32m━━━━━━━━━━━━━━━━━━━━\u001b[0m\u001b[37m\u001b[0m \u001b[1m2s\u001b[0m 8ms/step\n",
      "Pred        DEBILT  DUSSELDORF  HEATHROW  KASSEL  LJUBLJANA  MAASTRICHT  \\\n",
      "True                                                                      \n",
      "BASEL          255          11         3      59       1769         307   \n",
      "BELGRADE        15           0         0       0        698          29   \n",
      "BUDAPEST         3           0         0       0         94           8   \n",
      "DEBILT           3           0         0       0         33           3   \n",
      "DUSSELDORF       1           0         0       0          6           5   \n",
      "HEATHROW         5           0         0       0          8           4   \n",
      "KASSEL           1           0         0       0          6           1   \n",
      "LJUBLJANA        1           0         0       0         23           2   \n",
      "MAASTRICHT       0           0         0       0          5           0   \n",
      "MADRID          30           0         0       1         72          23   \n",
      "MUNCHENB         0           0         0       0          6           0   \n",
      "OSLO             0           0         0       0          1           0   \n",
      "STOCKHOLM        0           0         0       0          2           0   \n",
      "VALENTIA         1           0         0       0          0           0   \n",
      "\n",
      "Pred        MADRID  OSLO  SONNBLICK  STOCKHOLM  VALENTIA  \n",
      "True                                                      \n",
      "BASEL         1003    49          7        183        36  \n",
      "BELGRADE       283     4          0         63         0  \n",
      "BUDAPEST        91     0          0         18         0  \n",
      "DEBILT          28     0          0         15         0  \n",
      "DUSSELDORF      11     0          0          6         0  \n",
      "HEATHROW        53     1          0         11         0  \n",
      "KASSEL           2     1          0          0         0  \n",
      "LJUBLJANA       33     0          0          2         0  \n",
      "MAASTRICHT       4     0          0          0         0  \n",
      "MADRID         292     4          0         36         0  \n",
      "MUNCHENB         1     1          0          0         0  \n",
      "OSLO             1     0          0          3         0  \n",
      "STOCKHOLM        2     0          0          0         0  \n",
      "VALENTIA         0     0          0          0         0  \n"
     ]
    }
   ],
   "source": [
    "# Evaluate\n",
    "print(confusion_matrix(y_test, model.predict(X_test)))"
   ]
  },
  {
   "cell_type": "markdown",
   "id": "d6c447e4-1956-4302-9035-3aa714198577",
   "metadata": {},
   "source": [
    "## Keras Model Retrials"
   ]
  },
  {
   "cell_type": "code",
   "execution_count": 112,
   "id": "57f6b857-61c3-4c4c-9fc5-6df3dfb3f900",
   "metadata": {},
   "outputs": [],
   "source": [
    "epochs = 30\n",
    "batch_size = 16\n",
    "n_hidden = 4\n",
    "\n",
    "timesteps = len(X_train[0])\n",
    "input_dim = len(X_train[0][0])\n",
    "n_classes = len(y_train[0])\n",
    "\n",
    "model = Sequential()\n",
    "model.add(Conv1D(n_hidden, kernel_size=2, activation='relu', input_shape=(timesteps, input_dim)))\n",
    "model.add(Dense(16, activation='relu'))\n",
    "model.add(MaxPooling1D())\n",
    "model.add(Flatten())\n",
    "model.add(Dense(n_classes, activation='softmax')) # Options: sigmoid, tanh, softmax, relu"
   ]
  },
  {
   "cell_type": "code",
   "execution_count": 114,
   "id": "9b7c0977-ada7-46cc-831a-4a16b619eb47",
   "metadata": {},
   "outputs": [
    {
     "data": {
      "text/html": [
       "<pre style=\"white-space:pre;overflow-x:auto;line-height:normal;font-family:Menlo,'DejaVu Sans Mono',consolas,'Courier New',monospace\"><span style=\"font-weight: bold\">Model: \"sequential_1\"</span>\n",
       "</pre>\n"
      ],
      "text/plain": [
       "\u001b[1mModel: \"sequential_1\"\u001b[0m\n"
      ]
     },
     "metadata": {},
     "output_type": "display_data"
    },
    {
     "data": {
      "text/html": [
       "<pre style=\"white-space:pre;overflow-x:auto;line-height:normal;font-family:Menlo,'DejaVu Sans Mono',consolas,'Courier New',monospace\">┏━━━━━━━━━━━━━━━━━━━━━━━━━━━━━━━━━┳━━━━━━━━━━━━━━━━━━━━━━━━┳━━━━━━━━━━━━━━━┓\n",
       "┃<span style=\"font-weight: bold\"> Layer (type)                    </span>┃<span style=\"font-weight: bold\"> Output Shape           </span>┃<span style=\"font-weight: bold\">       Param # </span>┃\n",
       "┡━━━━━━━━━━━━━━━━━━━━━━━━━━━━━━━━━╇━━━━━━━━━━━━━━━━━━━━━━━━╇━━━━━━━━━━━━━━━┩\n",
       "│ conv1d_1 (<span style=\"color: #0087ff; text-decoration-color: #0087ff\">Conv1D</span>)               │ (<span style=\"color: #00d7ff; text-decoration-color: #00d7ff\">None</span>, <span style=\"color: #00af00; text-decoration-color: #00af00\">14</span>, <span style=\"color: #00af00; text-decoration-color: #00af00\">4</span>)          │            <span style=\"color: #00af00; text-decoration-color: #00af00\">76</span> │\n",
       "├─────────────────────────────────┼────────────────────────┼───────────────┤\n",
       "│ dense_2 (<span style=\"color: #0087ff; text-decoration-color: #0087ff\">Dense</span>)                 │ (<span style=\"color: #00d7ff; text-decoration-color: #00d7ff\">None</span>, <span style=\"color: #00af00; text-decoration-color: #00af00\">14</span>, <span style=\"color: #00af00; text-decoration-color: #00af00\">16</span>)         │            <span style=\"color: #00af00; text-decoration-color: #00af00\">80</span> │\n",
       "├─────────────────────────────────┼────────────────────────┼───────────────┤\n",
       "│ max_pooling1d_1 (<span style=\"color: #0087ff; text-decoration-color: #0087ff\">MaxPooling1D</span>)  │ (<span style=\"color: #00d7ff; text-decoration-color: #00d7ff\">None</span>, <span style=\"color: #00af00; text-decoration-color: #00af00\">7</span>, <span style=\"color: #00af00; text-decoration-color: #00af00\">16</span>)          │             <span style=\"color: #00af00; text-decoration-color: #00af00\">0</span> │\n",
       "├─────────────────────────────────┼────────────────────────┼───────────────┤\n",
       "│ flatten_1 (<span style=\"color: #0087ff; text-decoration-color: #0087ff\">Flatten</span>)             │ (<span style=\"color: #00d7ff; text-decoration-color: #00d7ff\">None</span>, <span style=\"color: #00af00; text-decoration-color: #00af00\">112</span>)            │             <span style=\"color: #00af00; text-decoration-color: #00af00\">0</span> │\n",
       "├─────────────────────────────────┼────────────────────────┼───────────────┤\n",
       "│ dense_3 (<span style=\"color: #0087ff; text-decoration-color: #0087ff\">Dense</span>)                 │ (<span style=\"color: #00d7ff; text-decoration-color: #00d7ff\">None</span>, <span style=\"color: #00af00; text-decoration-color: #00af00\">15</span>)             │         <span style=\"color: #00af00; text-decoration-color: #00af00\">1,695</span> │\n",
       "└─────────────────────────────────┴────────────────────────┴───────────────┘\n",
       "</pre>\n"
      ],
      "text/plain": [
       "┏━━━━━━━━━━━━━━━━━━━━━━━━━━━━━━━━━┳━━━━━━━━━━━━━━━━━━━━━━━━┳━━━━━━━━━━━━━━━┓\n",
       "┃\u001b[1m \u001b[0m\u001b[1mLayer (type)                   \u001b[0m\u001b[1m \u001b[0m┃\u001b[1m \u001b[0m\u001b[1mOutput Shape          \u001b[0m\u001b[1m \u001b[0m┃\u001b[1m \u001b[0m\u001b[1m      Param #\u001b[0m\u001b[1m \u001b[0m┃\n",
       "┡━━━━━━━━━━━━━━━━━━━━━━━━━━━━━━━━━╇━━━━━━━━━━━━━━━━━━━━━━━━╇━━━━━━━━━━━━━━━┩\n",
       "│ conv1d_1 (\u001b[38;5;33mConv1D\u001b[0m)               │ (\u001b[38;5;45mNone\u001b[0m, \u001b[38;5;34m14\u001b[0m, \u001b[38;5;34m4\u001b[0m)          │            \u001b[38;5;34m76\u001b[0m │\n",
       "├─────────────────────────────────┼────────────────────────┼───────────────┤\n",
       "│ dense_2 (\u001b[38;5;33mDense\u001b[0m)                 │ (\u001b[38;5;45mNone\u001b[0m, \u001b[38;5;34m14\u001b[0m, \u001b[38;5;34m16\u001b[0m)         │            \u001b[38;5;34m80\u001b[0m │\n",
       "├─────────────────────────────────┼────────────────────────┼───────────────┤\n",
       "│ max_pooling1d_1 (\u001b[38;5;33mMaxPooling1D\u001b[0m)  │ (\u001b[38;5;45mNone\u001b[0m, \u001b[38;5;34m7\u001b[0m, \u001b[38;5;34m16\u001b[0m)          │             \u001b[38;5;34m0\u001b[0m │\n",
       "├─────────────────────────────────┼────────────────────────┼───────────────┤\n",
       "│ flatten_1 (\u001b[38;5;33mFlatten\u001b[0m)             │ (\u001b[38;5;45mNone\u001b[0m, \u001b[38;5;34m112\u001b[0m)            │             \u001b[38;5;34m0\u001b[0m │\n",
       "├─────────────────────────────────┼────────────────────────┼───────────────┤\n",
       "│ dense_3 (\u001b[38;5;33mDense\u001b[0m)                 │ (\u001b[38;5;45mNone\u001b[0m, \u001b[38;5;34m15\u001b[0m)             │         \u001b[38;5;34m1,695\u001b[0m │\n",
       "└─────────────────────────────────┴────────────────────────┴───────────────┘\n"
      ]
     },
     "metadata": {},
     "output_type": "display_data"
    },
    {
     "data": {
      "text/html": [
       "<pre style=\"white-space:pre;overflow-x:auto;line-height:normal;font-family:Menlo,'DejaVu Sans Mono',consolas,'Courier New',monospace\"><span style=\"font-weight: bold\"> Total params: </span><span style=\"color: #00af00; text-decoration-color: #00af00\">1,851</span> (7.23 KB)\n",
       "</pre>\n"
      ],
      "text/plain": [
       "\u001b[1m Total params: \u001b[0m\u001b[38;5;34m1,851\u001b[0m (7.23 KB)\n"
      ]
     },
     "metadata": {},
     "output_type": "display_data"
    },
    {
     "data": {
      "text/html": [
       "<pre style=\"white-space:pre;overflow-x:auto;line-height:normal;font-family:Menlo,'DejaVu Sans Mono',consolas,'Courier New',monospace\"><span style=\"font-weight: bold\"> Trainable params: </span><span style=\"color: #00af00; text-decoration-color: #00af00\">1,851</span> (7.23 KB)\n",
       "</pre>\n"
      ],
      "text/plain": [
       "\u001b[1m Trainable params: \u001b[0m\u001b[38;5;34m1,851\u001b[0m (7.23 KB)\n"
      ]
     },
     "metadata": {},
     "output_type": "display_data"
    },
    {
     "data": {
      "text/html": [
       "<pre style=\"white-space:pre;overflow-x:auto;line-height:normal;font-family:Menlo,'DejaVu Sans Mono',consolas,'Courier New',monospace\"><span style=\"font-weight: bold\"> Non-trainable params: </span><span style=\"color: #00af00; text-decoration-color: #00af00\">0</span> (0.00 B)\n",
       "</pre>\n"
      ],
      "text/plain": [
       "\u001b[1m Non-trainable params: \u001b[0m\u001b[38;5;34m0\u001b[0m (0.00 B)\n"
      ]
     },
     "metadata": {},
     "output_type": "display_data"
    }
   ],
   "source": [
    "model.summary()"
   ]
  },
  {
   "cell_type": "code",
   "execution_count": 116,
   "id": "63ad5153-36ae-4856-87ce-e7ab99ca8b23",
   "metadata": {},
   "outputs": [],
   "source": [
    "model.compile(loss='categorical_crossentropy', optimizer='adam', metrics=['accuracy'])"
   ]
  },
  {
   "cell_type": "code",
   "execution_count": 118,
   "id": "807ca95b-df1e-485b-b114-eeb7d9220e4a",
   "metadata": {},
   "outputs": [
    {
     "name": "stdout",
     "output_type": "stream",
     "text": [
      "Epoch 1/30\n",
      "1076/1076 - 12s - 11ms/step - accuracy: 0.1199 - loss: 310.2769\n",
      "Epoch 2/30\n",
      "1076/1076 - 6s - 6ms/step - accuracy: 0.1312 - loss: 2824.5261\n",
      "Epoch 3/30\n",
      "1076/1076 - 8s - 7ms/step - accuracy: 0.1361 - loss: 9457.5664\n",
      "Epoch 4/30\n",
      "1076/1076 - 7s - 6ms/step - accuracy: 0.1382 - loss: 20126.2129\n",
      "Epoch 5/30\n",
      "1076/1076 - 8s - 7ms/step - accuracy: 0.1405 - loss: 37439.6953\n",
      "Epoch 6/30\n",
      "1076/1076 - 6s - 6ms/step - accuracy: 0.1354 - loss: 58767.5352\n",
      "Epoch 7/30\n",
      "1076/1076 - 6s - 6ms/step - accuracy: 0.1329 - loss: 85150.3203\n",
      "Epoch 8/30\n",
      "1076/1076 - 6s - 5ms/step - accuracy: 0.1390 - loss: 121737.5781\n",
      "Epoch 9/30\n",
      "1076/1076 - 6s - 5ms/step - accuracy: 0.1383 - loss: 164103.5625\n",
      "Epoch 10/30\n",
      "1076/1076 - 6s - 6ms/step - accuracy: 0.1393 - loss: 212404.8750\n",
      "Epoch 11/30\n",
      "1076/1076 - 6s - 6ms/step - accuracy: 0.1329 - loss: 271060.2500\n",
      "Epoch 12/30\n",
      "1076/1076 - 6s - 5ms/step - accuracy: 0.1368 - loss: 339110.1562\n",
      "Epoch 13/30\n",
      "1076/1076 - 6s - 6ms/step - accuracy: 0.1332 - loss: 412769.4375\n",
      "Epoch 14/30\n",
      "1076/1076 - 6s - 6ms/step - accuracy: 0.1328 - loss: 499810.2188\n",
      "Epoch 15/30\n",
      "1076/1076 - 6s - 6ms/step - accuracy: 0.1363 - loss: 597532.1875\n",
      "Epoch 16/30\n",
      "1076/1076 - 7s - 6ms/step - accuracy: 0.1346 - loss: 706225.9375\n",
      "Epoch 17/30\n",
      "1076/1076 - 6s - 6ms/step - accuracy: 0.1323 - loss: 822432.1250\n",
      "Epoch 18/30\n",
      "1076/1076 - 6s - 5ms/step - accuracy: 0.1292 - loss: 955152.5000\n",
      "Epoch 19/30\n",
      "1076/1076 - 6s - 6ms/step - accuracy: 0.1336 - loss: 1108102.6250\n",
      "Epoch 20/30\n",
      "1076/1076 - 8s - 7ms/step - accuracy: 0.1321 - loss: 1266330.6250\n",
      "Epoch 21/30\n",
      "1076/1076 - 7s - 6ms/step - accuracy: 0.1304 - loss: 1434939.3750\n",
      "Epoch 22/30\n",
      "1076/1076 - 6s - 6ms/step - accuracy: 0.1292 - loss: 1632008.2500\n",
      "Epoch 23/30\n",
      "1076/1076 - 6s - 6ms/step - accuracy: 0.1324 - loss: 1837873.3750\n",
      "Epoch 24/30\n",
      "1076/1076 - 6s - 6ms/step - accuracy: 0.1286 - loss: 2046962.8750\n",
      "Epoch 25/30\n",
      "1076/1076 - 6s - 5ms/step - accuracy: 0.1274 - loss: 2289718.7500\n",
      "Epoch 26/30\n",
      "1076/1076 - 6s - 5ms/step - accuracy: 0.1244 - loss: 2548326.0000\n",
      "Epoch 27/30\n",
      "1076/1076 - 6s - 5ms/step - accuracy: 0.1267 - loss: 2798580.7500\n",
      "Epoch 28/30\n",
      "1076/1076 - 7s - 6ms/step - accuracy: 0.1256 - loss: 3082658.5000\n",
      "Epoch 29/30\n",
      "1076/1076 - 8s - 7ms/step - accuracy: 0.1253 - loss: 3399004.7500\n",
      "Epoch 30/30\n",
      "1076/1076 - 9s - 8ms/step - accuracy: 0.1246 - loss: 3725181.7500\n"
     ]
    },
    {
     "data": {
      "text/plain": [
       "<keras.src.callbacks.history.History at 0x174898b7470>"
      ]
     },
     "execution_count": 118,
     "metadata": {},
     "output_type": "execute_result"
    }
   ],
   "source": [
    "model.fit(X_train, y_train, batch_size=batch_size, epochs=epochs, verbose=2)"
   ]
  },
  {
   "cell_type": "code",
   "execution_count": 120,
   "id": "0ee672d3-ba51-4093-82df-9b7b6f55f5b1",
   "metadata": {},
   "outputs": [],
   "source": [
    "def confusion_matrix(y_true, y_pred):\n",
    "    y_true = pd.Series([stations[y] for y in np.argmax(y_true, axis=1)])\n",
    "    y_pred = pd.Series([stations[y] for y in np.argmax(y_pred, axis=1)])\n",
    "\n",
    "    return pd.crosstab(y_true, y_pred, rownames=['True'], colnames=['Pred'])"
   ]
  },
  {
   "cell_type": "code",
   "execution_count": 122,
   "id": "97553fe1-c8ca-46fe-b243-e33cc8e07c0c",
   "metadata": {},
   "outputs": [
    {
     "name": "stdout",
     "output_type": "stream",
     "text": [
      "\u001b[1m180/180\u001b[0m \u001b[32m━━━━━━━━━━━━━━━━━━━━\u001b[0m\u001b[37m\u001b[0m \u001b[1m1s\u001b[0m 4ms/step\n",
      "Pred        BASEL  BELGRADE  BUDAPEST  DEBILT  DUSSELDORF  HEATHROW  KASSEL  \\\n",
      "True                                                                          \n",
      "BASEL           5       142       611      89         218       226      41   \n",
      "BELGRADE        0       139        12      38          21         0       5   \n",
      "BUDAPEST        0        16         1       6          10         0       0   \n",
      "DEBILT          0         4         0       7           4         0       0   \n",
      "DUSSELDORF      0         1         0       3           3         0       0   \n",
      "HEATHROW        0         1         0       9          12         0       1   \n",
      "KASSEL          0         2         0       1           1         0       0   \n",
      "LJUBLJANA       0         6         0       1           3         0       0   \n",
      "MAASTRICHT      0         1         0       0           3         0       0   \n",
      "MADRID          0         7         4       6          66        20       0   \n",
      "MUNCHENB        0         1         0       0           0         0       0   \n",
      "OSLO            0         0         0       0           0         0       0   \n",
      "STOCKHOLM       0         1         0       0           0         0       0   \n",
      "VALENTIA        0         0         0       1           0         0       0   \n",
      "\n",
      "Pred        LJUBLJANA  MAASTRICHT  MADRID  MUNCHENB  OSLO  SONNBLICK  \\\n",
      "True                                                                   \n",
      "BASEL              15          50    1794       168   215         22   \n",
      "BELGRADE            5           0     767        35    59          0   \n",
      "BUDAPEST            2           0     149         4    25          0   \n",
      "DEBILT              3           0      46         2    16          0   \n",
      "DUSSELDORF          0           0      16         0     6          0   \n",
      "HEATHROW            0           0      46         0    12          0   \n",
      "KASSEL              1           0       4         1     1          0   \n",
      "LJUBLJANA           0           0      45         1     5          0   \n",
      "MAASTRICHT          0           0       5         0     0          0   \n",
      "MADRID              0           0     303         4    41          0   \n",
      "MUNCHENB            0           0       5         1     1          0   \n",
      "OSLO                0           0       1         0     4          0   \n",
      "STOCKHOLM           0           0       2         0     1          0   \n",
      "VALENTIA            0           0       0         0     0          0   \n",
      "\n",
      "Pred        STOCKHOLM  VALENTIA  \n",
      "True                             \n",
      "BASEL              54        32  \n",
      "BELGRADE           11         0  \n",
      "BUDAPEST            1         0  \n",
      "DEBILT              0         0  \n",
      "DUSSELDORF          0         0  \n",
      "HEATHROW            1         0  \n",
      "KASSEL              0         0  \n",
      "LJUBLJANA           0         0  \n",
      "MAASTRICHT          0         0  \n",
      "MADRID              7         0  \n",
      "MUNCHENB            0         0  \n",
      "OSLO                0         0  \n",
      "STOCKHOLM           0         0  \n",
      "VALENTIA            0         0  \n"
     ]
    }
   ],
   "source": [
    "# Evaluate\n",
    "\n",
    "print(confusion_matrix(y_test, model.predict(X_test)))"
   ]
  },
  {
   "cell_type": "code",
   "execution_count": 124,
   "id": "f27778c5-fb8e-4a8b-823a-4518ec2d31a5",
   "metadata": {},
   "outputs": [],
   "source": [
    "epochs = 30\n",
    "batch_size = 16\n",
    "n_hidden = 128\n",
    "\n",
    "timesteps = len(X_train[0])\n",
    "input_dim = len(X_train[0][0])\n",
    "n_classes = len(y_train[0])\n",
    "\n",
    "model = Sequential()\n",
    "model.add(Conv1D(n_hidden, kernel_size=2, activation='relu', input_shape=(timesteps, input_dim)))\n",
    "model.add(Dense(16, activation='relu'))\n",
    "model.add(MaxPooling1D())\n",
    "model.add(Flatten())\n",
    "model.add(Dense(n_classes, activation='tanh')) # Options: sigmoid, tanh, softmax, relu"
   ]
  },
  {
   "cell_type": "code",
   "execution_count": 126,
   "id": "a5d5eba8-d502-49de-bae3-acd0a8b92481",
   "metadata": {},
   "outputs": [
    {
     "data": {
      "text/html": [
       "<pre style=\"white-space:pre;overflow-x:auto;line-height:normal;font-family:Menlo,'DejaVu Sans Mono',consolas,'Courier New',monospace\"><span style=\"font-weight: bold\">Model: \"sequential_2\"</span>\n",
       "</pre>\n"
      ],
      "text/plain": [
       "\u001b[1mModel: \"sequential_2\"\u001b[0m\n"
      ]
     },
     "metadata": {},
     "output_type": "display_data"
    },
    {
     "data": {
      "text/html": [
       "<pre style=\"white-space:pre;overflow-x:auto;line-height:normal;font-family:Menlo,'DejaVu Sans Mono',consolas,'Courier New',monospace\">┏━━━━━━━━━━━━━━━━━━━━━━━━━━━━━━━━━┳━━━━━━━━━━━━━━━━━━━━━━━━┳━━━━━━━━━━━━━━━┓\n",
       "┃<span style=\"font-weight: bold\"> Layer (type)                    </span>┃<span style=\"font-weight: bold\"> Output Shape           </span>┃<span style=\"font-weight: bold\">       Param # </span>┃\n",
       "┡━━━━━━━━━━━━━━━━━━━━━━━━━━━━━━━━━╇━━━━━━━━━━━━━━━━━━━━━━━━╇━━━━━━━━━━━━━━━┩\n",
       "│ conv1d_2 (<span style=\"color: #0087ff; text-decoration-color: #0087ff\">Conv1D</span>)               │ (<span style=\"color: #00d7ff; text-decoration-color: #00d7ff\">None</span>, <span style=\"color: #00af00; text-decoration-color: #00af00\">14</span>, <span style=\"color: #00af00; text-decoration-color: #00af00\">128</span>)        │         <span style=\"color: #00af00; text-decoration-color: #00af00\">2,432</span> │\n",
       "├─────────────────────────────────┼────────────────────────┼───────────────┤\n",
       "│ dense_4 (<span style=\"color: #0087ff; text-decoration-color: #0087ff\">Dense</span>)                 │ (<span style=\"color: #00d7ff; text-decoration-color: #00d7ff\">None</span>, <span style=\"color: #00af00; text-decoration-color: #00af00\">14</span>, <span style=\"color: #00af00; text-decoration-color: #00af00\">16</span>)         │         <span style=\"color: #00af00; text-decoration-color: #00af00\">2,064</span> │\n",
       "├─────────────────────────────────┼────────────────────────┼───────────────┤\n",
       "│ max_pooling1d_2 (<span style=\"color: #0087ff; text-decoration-color: #0087ff\">MaxPooling1D</span>)  │ (<span style=\"color: #00d7ff; text-decoration-color: #00d7ff\">None</span>, <span style=\"color: #00af00; text-decoration-color: #00af00\">7</span>, <span style=\"color: #00af00; text-decoration-color: #00af00\">16</span>)          │             <span style=\"color: #00af00; text-decoration-color: #00af00\">0</span> │\n",
       "├─────────────────────────────────┼────────────────────────┼───────────────┤\n",
       "│ flatten_2 (<span style=\"color: #0087ff; text-decoration-color: #0087ff\">Flatten</span>)             │ (<span style=\"color: #00d7ff; text-decoration-color: #00d7ff\">None</span>, <span style=\"color: #00af00; text-decoration-color: #00af00\">112</span>)            │             <span style=\"color: #00af00; text-decoration-color: #00af00\">0</span> │\n",
       "├─────────────────────────────────┼────────────────────────┼───────────────┤\n",
       "│ dense_5 (<span style=\"color: #0087ff; text-decoration-color: #0087ff\">Dense</span>)                 │ (<span style=\"color: #00d7ff; text-decoration-color: #00d7ff\">None</span>, <span style=\"color: #00af00; text-decoration-color: #00af00\">15</span>)             │         <span style=\"color: #00af00; text-decoration-color: #00af00\">1,695</span> │\n",
       "└─────────────────────────────────┴────────────────────────┴───────────────┘\n",
       "</pre>\n"
      ],
      "text/plain": [
       "┏━━━━━━━━━━━━━━━━━━━━━━━━━━━━━━━━━┳━━━━━━━━━━━━━━━━━━━━━━━━┳━━━━━━━━━━━━━━━┓\n",
       "┃\u001b[1m \u001b[0m\u001b[1mLayer (type)                   \u001b[0m\u001b[1m \u001b[0m┃\u001b[1m \u001b[0m\u001b[1mOutput Shape          \u001b[0m\u001b[1m \u001b[0m┃\u001b[1m \u001b[0m\u001b[1m      Param #\u001b[0m\u001b[1m \u001b[0m┃\n",
       "┡━━━━━━━━━━━━━━━━━━━━━━━━━━━━━━━━━╇━━━━━━━━━━━━━━━━━━━━━━━━╇━━━━━━━━━━━━━━━┩\n",
       "│ conv1d_2 (\u001b[38;5;33mConv1D\u001b[0m)               │ (\u001b[38;5;45mNone\u001b[0m, \u001b[38;5;34m14\u001b[0m, \u001b[38;5;34m128\u001b[0m)        │         \u001b[38;5;34m2,432\u001b[0m │\n",
       "├─────────────────────────────────┼────────────────────────┼───────────────┤\n",
       "│ dense_4 (\u001b[38;5;33mDense\u001b[0m)                 │ (\u001b[38;5;45mNone\u001b[0m, \u001b[38;5;34m14\u001b[0m, \u001b[38;5;34m16\u001b[0m)         │         \u001b[38;5;34m2,064\u001b[0m │\n",
       "├─────────────────────────────────┼────────────────────────┼───────────────┤\n",
       "│ max_pooling1d_2 (\u001b[38;5;33mMaxPooling1D\u001b[0m)  │ (\u001b[38;5;45mNone\u001b[0m, \u001b[38;5;34m7\u001b[0m, \u001b[38;5;34m16\u001b[0m)          │             \u001b[38;5;34m0\u001b[0m │\n",
       "├─────────────────────────────────┼────────────────────────┼───────────────┤\n",
       "│ flatten_2 (\u001b[38;5;33mFlatten\u001b[0m)             │ (\u001b[38;5;45mNone\u001b[0m, \u001b[38;5;34m112\u001b[0m)            │             \u001b[38;5;34m0\u001b[0m │\n",
       "├─────────────────────────────────┼────────────────────────┼───────────────┤\n",
       "│ dense_5 (\u001b[38;5;33mDense\u001b[0m)                 │ (\u001b[38;5;45mNone\u001b[0m, \u001b[38;5;34m15\u001b[0m)             │         \u001b[38;5;34m1,695\u001b[0m │\n",
       "└─────────────────────────────────┴────────────────────────┴───────────────┘\n"
      ]
     },
     "metadata": {},
     "output_type": "display_data"
    },
    {
     "data": {
      "text/html": [
       "<pre style=\"white-space:pre;overflow-x:auto;line-height:normal;font-family:Menlo,'DejaVu Sans Mono',consolas,'Courier New',monospace\"><span style=\"font-weight: bold\"> Total params: </span><span style=\"color: #00af00; text-decoration-color: #00af00\">6,191</span> (24.18 KB)\n",
       "</pre>\n"
      ],
      "text/plain": [
       "\u001b[1m Total params: \u001b[0m\u001b[38;5;34m6,191\u001b[0m (24.18 KB)\n"
      ]
     },
     "metadata": {},
     "output_type": "display_data"
    },
    {
     "data": {
      "text/html": [
       "<pre style=\"white-space:pre;overflow-x:auto;line-height:normal;font-family:Menlo,'DejaVu Sans Mono',consolas,'Courier New',monospace\"><span style=\"font-weight: bold\"> Trainable params: </span><span style=\"color: #00af00; text-decoration-color: #00af00\">6,191</span> (24.18 KB)\n",
       "</pre>\n"
      ],
      "text/plain": [
       "\u001b[1m Trainable params: \u001b[0m\u001b[38;5;34m6,191\u001b[0m (24.18 KB)\n"
      ]
     },
     "metadata": {},
     "output_type": "display_data"
    },
    {
     "data": {
      "text/html": [
       "<pre style=\"white-space:pre;overflow-x:auto;line-height:normal;font-family:Menlo,'DejaVu Sans Mono',consolas,'Courier New',monospace\"><span style=\"font-weight: bold\"> Non-trainable params: </span><span style=\"color: #00af00; text-decoration-color: #00af00\">0</span> (0.00 B)\n",
       "</pre>\n"
      ],
      "text/plain": [
       "\u001b[1m Non-trainable params: \u001b[0m\u001b[38;5;34m0\u001b[0m (0.00 B)\n"
      ]
     },
     "metadata": {},
     "output_type": "display_data"
    }
   ],
   "source": [
    "model.summary()"
   ]
  },
  {
   "cell_type": "code",
   "execution_count": 128,
   "id": "85421674-d285-4808-a36c-6afa09d145ee",
   "metadata": {},
   "outputs": [],
   "source": [
    "model.compile(loss='categorical_crossentropy', optimizer='adam', metrics=['accuracy'])"
   ]
  },
  {
   "cell_type": "code",
   "execution_count": 130,
   "id": "aa2977f7-10c3-4580-9959-b0ee5492207d",
   "metadata": {},
   "outputs": [
    {
     "name": "stdout",
     "output_type": "stream",
     "text": [
      "Epoch 1/30\n",
      "1076/1076 - 12s - 11ms/step - accuracy: 0.0613 - loss: 24.0554\n",
      "Epoch 2/30\n",
      "1076/1076 - 10s - 9ms/step - accuracy: 0.0049 - loss: 24.4627\n",
      "Epoch 3/30\n",
      "1076/1076 - 7s - 7ms/step - accuracy: 0.0016 - loss: 24.4309\n",
      "Epoch 4/30\n",
      "1076/1076 - 7s - 7ms/step - accuracy: 0.0016 - loss: 24.4309\n",
      "Epoch 5/30\n",
      "1076/1076 - 7s - 6ms/step - accuracy: 0.0016 - loss: 24.4309\n",
      "Epoch 6/30\n",
      "1076/1076 - 7s - 6ms/step - accuracy: 0.0016 - loss: 24.4309\n",
      "Epoch 7/30\n",
      "1076/1076 - 7s - 6ms/step - accuracy: 0.0016 - loss: 24.4309\n",
      "Epoch 8/30\n",
      "1076/1076 - 7s - 7ms/step - accuracy: 0.0016 - loss: 24.4309\n",
      "Epoch 9/30\n",
      "1076/1076 - 7s - 6ms/step - accuracy: 0.0016 - loss: 24.4309\n",
      "Epoch 10/30\n",
      "1076/1076 - 7s - 6ms/step - accuracy: 0.0016 - loss: 24.4309\n",
      "Epoch 11/30\n",
      "1076/1076 - 7s - 7ms/step - accuracy: 0.0016 - loss: 24.4309\n",
      "Epoch 12/30\n",
      "1076/1076 - 7s - 6ms/step - accuracy: 0.0016 - loss: 24.4309\n",
      "Epoch 13/30\n",
      "1076/1076 - 9s - 8ms/step - accuracy: 0.0016 - loss: 24.4309\n",
      "Epoch 14/30\n",
      "1076/1076 - 6s - 6ms/step - accuracy: 0.0016 - loss: 24.4309\n",
      "Epoch 15/30\n",
      "1076/1076 - 7s - 7ms/step - accuracy: 0.0016 - loss: 24.4309\n",
      "Epoch 16/30\n",
      "1076/1076 - 7s - 6ms/step - accuracy: 0.0016 - loss: 24.4309\n",
      "Epoch 17/30\n",
      "1076/1076 - 9s - 8ms/step - accuracy: 0.0016 - loss: 24.4309\n",
      "Epoch 18/30\n",
      "1076/1076 - 8s - 8ms/step - accuracy: 0.0016 - loss: 24.4309\n",
      "Epoch 19/30\n",
      "1076/1076 - 9s - 8ms/step - accuracy: 0.0016 - loss: 24.4309\n",
      "Epoch 20/30\n",
      "1076/1076 - 7s - 7ms/step - accuracy: 0.0016 - loss: 24.4309\n",
      "Epoch 21/30\n",
      "1076/1076 - 9s - 8ms/step - accuracy: 0.0016 - loss: 24.4309\n",
      "Epoch 22/30\n",
      "1076/1076 - 7s - 7ms/step - accuracy: 0.0016 - loss: 24.4309\n",
      "Epoch 23/30\n",
      "1076/1076 - 9s - 8ms/step - accuracy: 0.0016 - loss: 24.4309\n",
      "Epoch 24/30\n",
      "1076/1076 - 8s - 8ms/step - accuracy: 0.0016 - loss: 24.4309\n",
      "Epoch 25/30\n",
      "1076/1076 - 9s - 8ms/step - accuracy: 0.0016 - loss: 24.4309\n",
      "Epoch 26/30\n",
      "1076/1076 - 8s - 8ms/step - accuracy: 0.0016 - loss: 24.4309\n",
      "Epoch 27/30\n",
      "1076/1076 - 9s - 9ms/step - accuracy: 0.0016 - loss: 24.4309\n",
      "Epoch 28/30\n",
      "1076/1076 - 6s - 6ms/step - accuracy: 0.0016 - loss: 24.4309\n",
      "Epoch 29/30\n",
      "1076/1076 - 9s - 9ms/step - accuracy: 0.0016 - loss: 24.4309\n",
      "Epoch 30/30\n",
      "1076/1076 - 9s - 9ms/step - accuracy: 0.0016 - loss: 24.4309\n"
     ]
    },
    {
     "data": {
      "text/plain": [
       "<keras.src.callbacks.history.History at 0x17489b75ca0>"
      ]
     },
     "execution_count": 130,
     "metadata": {},
     "output_type": "execute_result"
    }
   ],
   "source": [
    "model.fit(X_train, y_train, batch_size=batch_size, epochs=epochs, verbose=2)"
   ]
  },
  {
   "cell_type": "code",
   "execution_count": 132,
   "id": "9ba67e4b-182b-4c67-b44a-8f7626ecee14",
   "metadata": {},
   "outputs": [],
   "source": [
    "def confusion_matrix(y_true, y_pred):\n",
    "    y_true = pd.Series([stations[y] for y in np.argmax(y_true, axis=1)])\n",
    "    y_pred = pd.Series([stations[y] for y in np.argmax(y_pred, axis=1)])\n",
    "\n",
    "    return pd.crosstab(y_true, y_pred, rownames=['True'], colnames=['Pred'])"
   ]
  },
  {
   "cell_type": "code",
   "execution_count": 134,
   "id": "45c2f775-44e9-42f3-a2ec-4e5eff6cfab9",
   "metadata": {},
   "outputs": [
    {
     "name": "stdout",
     "output_type": "stream",
     "text": [
      "\u001b[1m180/180\u001b[0m \u001b[32m━━━━━━━━━━━━━━━━━━━━\u001b[0m\u001b[37m\u001b[0m \u001b[1m1s\u001b[0m 5ms/step\n",
      "Pred        BELGRADE  DUSSELDORF  HEATHROW  LJUBLJANA  MAASTRICHT  MADRID  \\\n",
      "True                                                                        \n",
      "BASEL              4           1       111         80         860     109   \n",
      "BELGRADE           9           0        31         68         636       0   \n",
      "BUDAPEST           1           0         4          4          95       0   \n",
      "DEBILT             0           0         0          2          47       0   \n",
      "DUSSELDORF         0           0         0          1          11       0   \n",
      "HEATHROW           0           0         0          0          20       0   \n",
      "KASSEL             0           0         0          0           6       0   \n",
      "LJUBLJANA          0           0         0          2           5       0   \n",
      "MAASTRICHT         0           0         0          0           1       0   \n",
      "MADRID             2           0         2          1          58       0   \n",
      "MUNCHENB           0           0         0          0           4       0   \n",
      "OSLO               0           0         0          1           2       0   \n",
      "STOCKHOLM          0           0         0          0           3       0   \n",
      "VALENTIA           0           0         0          0           0       0   \n",
      "\n",
      "Pred        SONNBLICK  STOCKHOLM  VALENTIA  \n",
      "True                                        \n",
      "BASEL             611       1476       430  \n",
      "BELGRADE            1        326        21  \n",
      "BUDAPEST            0        105         5  \n",
      "DEBILT              1         30         2  \n",
      "DUSSELDORF          1         15         1  \n",
      "HEATHROW            2         60         0  \n",
      "KASSEL              0          5         0  \n",
      "LJUBLJANA           0         51         3  \n",
      "MAASTRICHT          0          8         0  \n",
      "MADRID             65        308        22  \n",
      "MUNCHENB            0          4         0  \n",
      "OSLO                0          1         1  \n",
      "STOCKHOLM           0          1         0  \n",
      "VALENTIA            0          1         0  \n"
     ]
    }
   ],
   "source": [
    "# Evaluate\n",
    "\n",
    "print(confusion_matrix(y_test, model.predict(X_test)))"
   ]
  },
  {
   "cell_type": "code",
   "execution_count": 136,
   "id": "8a190e39-fc99-4c45-9f05-88ac73b0347f",
   "metadata": {},
   "outputs": [],
   "source": [
    "epochs = 30\n",
    "batch_size = 16\n",
    "n_hidden = 64\n",
    "\n",
    "timesteps = len(X_train[0])\n",
    "input_dim = len(X_train[0][0])\n",
    "n_classes = len(y_train[0])\n",
    "\n",
    "model = Sequential()\n",
    "model.add(Conv1D(n_hidden, kernel_size=2, activation='relu', input_shape=(timesteps, input_dim)))\n",
    "model.add(Dense(16, activation='relu'))\n",
    "model.add(MaxPooling1D())\n",
    "model.add(Flatten())\n",
    "model.add(Dense(n_classes, activation='tanh')) # Options: sigmoid, tanh, softmax, relu"
   ]
  },
  {
   "cell_type": "code",
   "execution_count": 138,
   "id": "7869189e-b7f6-40bf-bc9f-1b07b124e0cf",
   "metadata": {},
   "outputs": [
    {
     "data": {
      "text/html": [
       "<pre style=\"white-space:pre;overflow-x:auto;line-height:normal;font-family:Menlo,'DejaVu Sans Mono',consolas,'Courier New',monospace\"><span style=\"font-weight: bold\">Model: \"sequential_3\"</span>\n",
       "</pre>\n"
      ],
      "text/plain": [
       "\u001b[1mModel: \"sequential_3\"\u001b[0m\n"
      ]
     },
     "metadata": {},
     "output_type": "display_data"
    },
    {
     "data": {
      "text/html": [
       "<pre style=\"white-space:pre;overflow-x:auto;line-height:normal;font-family:Menlo,'DejaVu Sans Mono',consolas,'Courier New',monospace\">┏━━━━━━━━━━━━━━━━━━━━━━━━━━━━━━━━━┳━━━━━━━━━━━━━━━━━━━━━━━━┳━━━━━━━━━━━━━━━┓\n",
       "┃<span style=\"font-weight: bold\"> Layer (type)                    </span>┃<span style=\"font-weight: bold\"> Output Shape           </span>┃<span style=\"font-weight: bold\">       Param # </span>┃\n",
       "┡━━━━━━━━━━━━━━━━━━━━━━━━━━━━━━━━━╇━━━━━━━━━━━━━━━━━━━━━━━━╇━━━━━━━━━━━━━━━┩\n",
       "│ conv1d_3 (<span style=\"color: #0087ff; text-decoration-color: #0087ff\">Conv1D</span>)               │ (<span style=\"color: #00d7ff; text-decoration-color: #00d7ff\">None</span>, <span style=\"color: #00af00; text-decoration-color: #00af00\">14</span>, <span style=\"color: #00af00; text-decoration-color: #00af00\">64</span>)         │         <span style=\"color: #00af00; text-decoration-color: #00af00\">1,216</span> │\n",
       "├─────────────────────────────────┼────────────────────────┼───────────────┤\n",
       "│ dense_6 (<span style=\"color: #0087ff; text-decoration-color: #0087ff\">Dense</span>)                 │ (<span style=\"color: #00d7ff; text-decoration-color: #00d7ff\">None</span>, <span style=\"color: #00af00; text-decoration-color: #00af00\">14</span>, <span style=\"color: #00af00; text-decoration-color: #00af00\">16</span>)         │         <span style=\"color: #00af00; text-decoration-color: #00af00\">1,040</span> │\n",
       "├─────────────────────────────────┼────────────────────────┼───────────────┤\n",
       "│ max_pooling1d_3 (<span style=\"color: #0087ff; text-decoration-color: #0087ff\">MaxPooling1D</span>)  │ (<span style=\"color: #00d7ff; text-decoration-color: #00d7ff\">None</span>, <span style=\"color: #00af00; text-decoration-color: #00af00\">7</span>, <span style=\"color: #00af00; text-decoration-color: #00af00\">16</span>)          │             <span style=\"color: #00af00; text-decoration-color: #00af00\">0</span> │\n",
       "├─────────────────────────────────┼────────────────────────┼───────────────┤\n",
       "│ flatten_3 (<span style=\"color: #0087ff; text-decoration-color: #0087ff\">Flatten</span>)             │ (<span style=\"color: #00d7ff; text-decoration-color: #00d7ff\">None</span>, <span style=\"color: #00af00; text-decoration-color: #00af00\">112</span>)            │             <span style=\"color: #00af00; text-decoration-color: #00af00\">0</span> │\n",
       "├─────────────────────────────────┼────────────────────────┼───────────────┤\n",
       "│ dense_7 (<span style=\"color: #0087ff; text-decoration-color: #0087ff\">Dense</span>)                 │ (<span style=\"color: #00d7ff; text-decoration-color: #00d7ff\">None</span>, <span style=\"color: #00af00; text-decoration-color: #00af00\">15</span>)             │         <span style=\"color: #00af00; text-decoration-color: #00af00\">1,695</span> │\n",
       "└─────────────────────────────────┴────────────────────────┴───────────────┘\n",
       "</pre>\n"
      ],
      "text/plain": [
       "┏━━━━━━━━━━━━━━━━━━━━━━━━━━━━━━━━━┳━━━━━━━━━━━━━━━━━━━━━━━━┳━━━━━━━━━━━━━━━┓\n",
       "┃\u001b[1m \u001b[0m\u001b[1mLayer (type)                   \u001b[0m\u001b[1m \u001b[0m┃\u001b[1m \u001b[0m\u001b[1mOutput Shape          \u001b[0m\u001b[1m \u001b[0m┃\u001b[1m \u001b[0m\u001b[1m      Param #\u001b[0m\u001b[1m \u001b[0m┃\n",
       "┡━━━━━━━━━━━━━━━━━━━━━━━━━━━━━━━━━╇━━━━━━━━━━━━━━━━━━━━━━━━╇━━━━━━━━━━━━━━━┩\n",
       "│ conv1d_3 (\u001b[38;5;33mConv1D\u001b[0m)               │ (\u001b[38;5;45mNone\u001b[0m, \u001b[38;5;34m14\u001b[0m, \u001b[38;5;34m64\u001b[0m)         │         \u001b[38;5;34m1,216\u001b[0m │\n",
       "├─────────────────────────────────┼────────────────────────┼───────────────┤\n",
       "│ dense_6 (\u001b[38;5;33mDense\u001b[0m)                 │ (\u001b[38;5;45mNone\u001b[0m, \u001b[38;5;34m14\u001b[0m, \u001b[38;5;34m16\u001b[0m)         │         \u001b[38;5;34m1,040\u001b[0m │\n",
       "├─────────────────────────────────┼────────────────────────┼───────────────┤\n",
       "│ max_pooling1d_3 (\u001b[38;5;33mMaxPooling1D\u001b[0m)  │ (\u001b[38;5;45mNone\u001b[0m, \u001b[38;5;34m7\u001b[0m, \u001b[38;5;34m16\u001b[0m)          │             \u001b[38;5;34m0\u001b[0m │\n",
       "├─────────────────────────────────┼────────────────────────┼───────────────┤\n",
       "│ flatten_3 (\u001b[38;5;33mFlatten\u001b[0m)             │ (\u001b[38;5;45mNone\u001b[0m, \u001b[38;5;34m112\u001b[0m)            │             \u001b[38;5;34m0\u001b[0m │\n",
       "├─────────────────────────────────┼────────────────────────┼───────────────┤\n",
       "│ dense_7 (\u001b[38;5;33mDense\u001b[0m)                 │ (\u001b[38;5;45mNone\u001b[0m, \u001b[38;5;34m15\u001b[0m)             │         \u001b[38;5;34m1,695\u001b[0m │\n",
       "└─────────────────────────────────┴────────────────────────┴───────────────┘\n"
      ]
     },
     "metadata": {},
     "output_type": "display_data"
    },
    {
     "data": {
      "text/html": [
       "<pre style=\"white-space:pre;overflow-x:auto;line-height:normal;font-family:Menlo,'DejaVu Sans Mono',consolas,'Courier New',monospace\"><span style=\"font-weight: bold\"> Total params: </span><span style=\"color: #00af00; text-decoration-color: #00af00\">3,951</span> (15.43 KB)\n",
       "</pre>\n"
      ],
      "text/plain": [
       "\u001b[1m Total params: \u001b[0m\u001b[38;5;34m3,951\u001b[0m (15.43 KB)\n"
      ]
     },
     "metadata": {},
     "output_type": "display_data"
    },
    {
     "data": {
      "text/html": [
       "<pre style=\"white-space:pre;overflow-x:auto;line-height:normal;font-family:Menlo,'DejaVu Sans Mono',consolas,'Courier New',monospace\"><span style=\"font-weight: bold\"> Trainable params: </span><span style=\"color: #00af00; text-decoration-color: #00af00\">3,951</span> (15.43 KB)\n",
       "</pre>\n"
      ],
      "text/plain": [
       "\u001b[1m Trainable params: \u001b[0m\u001b[38;5;34m3,951\u001b[0m (15.43 KB)\n"
      ]
     },
     "metadata": {},
     "output_type": "display_data"
    },
    {
     "data": {
      "text/html": [
       "<pre style=\"white-space:pre;overflow-x:auto;line-height:normal;font-family:Menlo,'DejaVu Sans Mono',consolas,'Courier New',monospace\"><span style=\"font-weight: bold\"> Non-trainable params: </span><span style=\"color: #00af00; text-decoration-color: #00af00\">0</span> (0.00 B)\n",
       "</pre>\n"
      ],
      "text/plain": [
       "\u001b[1m Non-trainable params: \u001b[0m\u001b[38;5;34m0\u001b[0m (0.00 B)\n"
      ]
     },
     "metadata": {},
     "output_type": "display_data"
    }
   ],
   "source": [
    "model.summary()"
   ]
  },
  {
   "cell_type": "code",
   "execution_count": 140,
   "id": "b892b2da-4b5b-4da2-b172-3ca22effeb32",
   "metadata": {},
   "outputs": [],
   "source": [
    "model.compile(loss='categorical_crossentropy', optimizer='adam', metrics=['accuracy'])"
   ]
  },
  {
   "cell_type": "code",
   "execution_count": 142,
   "id": "199bd49f-9cf5-4bfa-b303-c4676568df2a",
   "metadata": {},
   "outputs": [
    {
     "name": "stdout",
     "output_type": "stream",
     "text": [
      "Epoch 1/30\n",
      "1076/1076 - 14s - 13ms/step - accuracy: 0.0282 - loss: 21.1009\n",
      "Epoch 2/30\n",
      "1076/1076 - 9s - 8ms/step - accuracy: 0.1758 - loss: 24.9006\n",
      "Epoch 3/30\n",
      "1076/1076 - 8s - 8ms/step - accuracy: 0.1946 - loss: 24.4666\n",
      "Epoch 4/30\n",
      "1076/1076 - 10s - 9ms/step - accuracy: 0.1946 - loss: 25.6212\n",
      "Epoch 5/30\n",
      "1076/1076 - 11s - 10ms/step - accuracy: 0.1946 - loss: 25.5893\n",
      "Epoch 6/30\n",
      "1076/1076 - 11s - 10ms/step - accuracy: 0.1946 - loss: 25.5500\n",
      "Epoch 7/30\n",
      "1076/1076 - 12s - 11ms/step - accuracy: 0.1946 - loss: 25.1220\n",
      "Epoch 8/30\n",
      "1076/1076 - 9s - 9ms/step - accuracy: 0.1946 - loss: 23.5778\n",
      "Epoch 9/30\n",
      "1076/1076 - 11s - 10ms/step - accuracy: 0.1946 - loss: 23.5741\n",
      "Epoch 10/30\n",
      "1076/1076 - 11s - 10ms/step - accuracy: 0.1946 - loss: 23.5740\n",
      "Epoch 11/30\n",
      "1076/1076 - 11s - 10ms/step - accuracy: 0.1946 - loss: 23.5741\n",
      "Epoch 12/30\n",
      "1076/1076 - 10s - 10ms/step - accuracy: 0.1946 - loss: 23.5741\n",
      "Epoch 13/30\n",
      "1076/1076 - 12s - 11ms/step - accuracy: 0.1946 - loss: 23.5722\n",
      "Epoch 14/30\n",
      "1076/1076 - 11s - 10ms/step - accuracy: 0.1946 - loss: 23.5750\n",
      "Epoch 15/30\n",
      "1076/1076 - 9s - 9ms/step - accuracy: 0.1946 - loss: 23.5740\n",
      "Epoch 16/30\n",
      "1076/1076 - 12s - 11ms/step - accuracy: 0.1946 - loss: 23.5834\n",
      "Epoch 17/30\n",
      "1076/1076 - 12s - 11ms/step - accuracy: 0.2856 - loss: 23.8488\n",
      "Epoch 18/30\n",
      "1076/1076 - 8s - 8ms/step - accuracy: 0.2850 - loss: 22.7781\n",
      "Epoch 19/30\n",
      "1076/1076 - 11s - 10ms/step - accuracy: 0.2873 - loss: 22.7772\n",
      "Epoch 20/30\n",
      "1076/1076 - 11s - 10ms/step - accuracy: 0.2873 - loss: 22.7772\n",
      "Epoch 21/30\n",
      "1076/1076 - 9s - 9ms/step - accuracy: 0.2873 - loss: 22.7772\n",
      "Epoch 22/30\n",
      "1076/1076 - 10s - 9ms/step - accuracy: 0.2873 - loss: 22.7771\n",
      "Epoch 23/30\n",
      "1076/1076 - 7s - 6ms/step - accuracy: 0.2873 - loss: 22.7771\n",
      "Epoch 24/30\n",
      "1076/1076 - 8s - 8ms/step - accuracy: 0.2873 - loss: 22.7771\n",
      "Epoch 25/30\n",
      "1076/1076 - 7s - 7ms/step - accuracy: 0.2873 - loss: 22.7771\n",
      "Epoch 26/30\n",
      "1076/1076 - 10s - 9ms/step - accuracy: 0.2873 - loss: 22.7771\n",
      "Epoch 27/30\n",
      "1076/1076 - 9s - 8ms/step - accuracy: 0.2873 - loss: 22.7771\n",
      "Epoch 28/30\n",
      "1076/1076 - 10s - 9ms/step - accuracy: 0.2873 - loss: 22.7771\n",
      "Epoch 29/30\n",
      "1076/1076 - 8s - 8ms/step - accuracy: 0.2873 - loss: 22.7771\n",
      "Epoch 30/30\n",
      "1076/1076 - 9s - 8ms/step - accuracy: 0.2873 - loss: 22.7772\n"
     ]
    },
    {
     "data": {
      "text/plain": [
       "<keras.src.callbacks.history.History at 0x17489da74a0>"
      ]
     },
     "execution_count": 142,
     "metadata": {},
     "output_type": "execute_result"
    }
   ],
   "source": [
    "model.fit(X_train, y_train, batch_size=batch_size, epochs=epochs, verbose=2)"
   ]
  },
  {
   "cell_type": "code",
   "execution_count": 144,
   "id": "4da2d071-cc49-47a0-b0ea-dd9784269714",
   "metadata": {},
   "outputs": [],
   "source": [
    "def confusion_matrix(y_true, y_pred):\n",
    "    y_true = pd.Series([stations[y] for y in np.argmax(y_true, axis=1)])\n",
    "    y_pred = pd.Series([stations[y] for y in np.argmax(y_pred, axis=1)])\n",
    "\n",
    "    return pd.crosstab(y_true, y_pred, rownames=['True'], colnames=['Pred'])"
   ]
  },
  {
   "cell_type": "code",
   "execution_count": 146,
   "id": "7909ad3b-e790-4226-858d-a796a79eeba1",
   "metadata": {},
   "outputs": [
    {
     "name": "stdout",
     "output_type": "stream",
     "text": [
      "\u001b[1m180/180\u001b[0m \u001b[32m━━━━━━━━━━━━━━━━━━━━\u001b[0m\u001b[37m\u001b[0m \u001b[1m2s\u001b[0m 8ms/step\n",
      "Pred        BASEL  BELGRADE  BUDAPEST  DEBILT  MADRID  MUNCHENB  VALENTIA\n",
      "True                                                                     \n",
      "BASEL        1446      2165        41       6       6        14         4\n",
      "BELGRADE      886       206         0       0       0         0         0\n",
      "BUDAPEST      191        23         0       0       0         0         0\n",
      "DEBILT         80         2         0       0       0         0         0\n",
      "DUSSELDORF     26         3         0       0       0         0         0\n",
      "HEATHROW       66        16         0       0       0         0         0\n",
      "KASSEL         10         1         0       0       0         0         0\n",
      "LJUBLJANA      33        28         0       0       0         0         0\n",
      "MAASTRICHT      5         4         0       0       0         0         0\n",
      "MADRID        162       296         0       0       0         0         0\n",
      "MUNCHENB        4         4         0       0       0         0         0\n",
      "OSLO            5         0         0       0       0         0         0\n",
      "STOCKHOLM       4         0         0       0       0         0         0\n",
      "VALENTIA        1         0         0       0       0         0         0\n"
     ]
    }
   ],
   "source": [
    "print(confusion_matrix(y_test, model.predict(X_test)))"
   ]
  },
  {
   "cell_type": "code",
   "execution_count": 148,
   "id": "1b471d24-3cb6-4ee6-837b-977dc5226d58",
   "metadata": {},
   "outputs": [],
   "source": [
    "epochs = 30\n",
    "batch_size = 16\n",
    "n_hidden = 64\n",
    "\n",
    "timesteps = len(X_train[0])\n",
    "input_dim = len(X_train[0][0])\n",
    "n_classes = len(y_train[0])\n",
    "\n",
    "model = Sequential()\n",
    "model.add(Conv1D(n_hidden, kernel_size=2, activation='relu', input_shape=(timesteps, input_dim)))\n",
    "model.add(Dense(16, activation='relu'))\n",
    "model.add(MaxPooling1D())\n",
    "model.add(Flatten())\n",
    "model.add(Dense(n_classes, activation='sigmoid')) # Options: sigmoid, tanh, softmax, relu"
   ]
  },
  {
   "cell_type": "code",
   "execution_count": 150,
   "id": "6bdb3374-5c2c-4f1e-bd1d-a633eb7e4440",
   "metadata": {},
   "outputs": [
    {
     "data": {
      "text/html": [
       "<pre style=\"white-space:pre;overflow-x:auto;line-height:normal;font-family:Menlo,'DejaVu Sans Mono',consolas,'Courier New',monospace\"><span style=\"font-weight: bold\">Model: \"sequential_4\"</span>\n",
       "</pre>\n"
      ],
      "text/plain": [
       "\u001b[1mModel: \"sequential_4\"\u001b[0m\n"
      ]
     },
     "metadata": {},
     "output_type": "display_data"
    },
    {
     "data": {
      "text/html": [
       "<pre style=\"white-space:pre;overflow-x:auto;line-height:normal;font-family:Menlo,'DejaVu Sans Mono',consolas,'Courier New',monospace\">┏━━━━━━━━━━━━━━━━━━━━━━━━━━━━━━━━━┳━━━━━━━━━━━━━━━━━━━━━━━━┳━━━━━━━━━━━━━━━┓\n",
       "┃<span style=\"font-weight: bold\"> Layer (type)                    </span>┃<span style=\"font-weight: bold\"> Output Shape           </span>┃<span style=\"font-weight: bold\">       Param # </span>┃\n",
       "┡━━━━━━━━━━━━━━━━━━━━━━━━━━━━━━━━━╇━━━━━━━━━━━━━━━━━━━━━━━━╇━━━━━━━━━━━━━━━┩\n",
       "│ conv1d_4 (<span style=\"color: #0087ff; text-decoration-color: #0087ff\">Conv1D</span>)               │ (<span style=\"color: #00d7ff; text-decoration-color: #00d7ff\">None</span>, <span style=\"color: #00af00; text-decoration-color: #00af00\">14</span>, <span style=\"color: #00af00; text-decoration-color: #00af00\">64</span>)         │         <span style=\"color: #00af00; text-decoration-color: #00af00\">1,216</span> │\n",
       "├─────────────────────────────────┼────────────────────────┼───────────────┤\n",
       "│ dense_8 (<span style=\"color: #0087ff; text-decoration-color: #0087ff\">Dense</span>)                 │ (<span style=\"color: #00d7ff; text-decoration-color: #00d7ff\">None</span>, <span style=\"color: #00af00; text-decoration-color: #00af00\">14</span>, <span style=\"color: #00af00; text-decoration-color: #00af00\">16</span>)         │         <span style=\"color: #00af00; text-decoration-color: #00af00\">1,040</span> │\n",
       "├─────────────────────────────────┼────────────────────────┼───────────────┤\n",
       "│ max_pooling1d_4 (<span style=\"color: #0087ff; text-decoration-color: #0087ff\">MaxPooling1D</span>)  │ (<span style=\"color: #00d7ff; text-decoration-color: #00d7ff\">None</span>, <span style=\"color: #00af00; text-decoration-color: #00af00\">7</span>, <span style=\"color: #00af00; text-decoration-color: #00af00\">16</span>)          │             <span style=\"color: #00af00; text-decoration-color: #00af00\">0</span> │\n",
       "├─────────────────────────────────┼────────────────────────┼───────────────┤\n",
       "│ flatten_4 (<span style=\"color: #0087ff; text-decoration-color: #0087ff\">Flatten</span>)             │ (<span style=\"color: #00d7ff; text-decoration-color: #00d7ff\">None</span>, <span style=\"color: #00af00; text-decoration-color: #00af00\">112</span>)            │             <span style=\"color: #00af00; text-decoration-color: #00af00\">0</span> │\n",
       "├─────────────────────────────────┼────────────────────────┼───────────────┤\n",
       "│ dense_9 (<span style=\"color: #0087ff; text-decoration-color: #0087ff\">Dense</span>)                 │ (<span style=\"color: #00d7ff; text-decoration-color: #00d7ff\">None</span>, <span style=\"color: #00af00; text-decoration-color: #00af00\">15</span>)             │         <span style=\"color: #00af00; text-decoration-color: #00af00\">1,695</span> │\n",
       "└─────────────────────────────────┴────────────────────────┴───────────────┘\n",
       "</pre>\n"
      ],
      "text/plain": [
       "┏━━━━━━━━━━━━━━━━━━━━━━━━━━━━━━━━━┳━━━━━━━━━━━━━━━━━━━━━━━━┳━━━━━━━━━━━━━━━┓\n",
       "┃\u001b[1m \u001b[0m\u001b[1mLayer (type)                   \u001b[0m\u001b[1m \u001b[0m┃\u001b[1m \u001b[0m\u001b[1mOutput Shape          \u001b[0m\u001b[1m \u001b[0m┃\u001b[1m \u001b[0m\u001b[1m      Param #\u001b[0m\u001b[1m \u001b[0m┃\n",
       "┡━━━━━━━━━━━━━━━━━━━━━━━━━━━━━━━━━╇━━━━━━━━━━━━━━━━━━━━━━━━╇━━━━━━━━━━━━━━━┩\n",
       "│ conv1d_4 (\u001b[38;5;33mConv1D\u001b[0m)               │ (\u001b[38;5;45mNone\u001b[0m, \u001b[38;5;34m14\u001b[0m, \u001b[38;5;34m64\u001b[0m)         │         \u001b[38;5;34m1,216\u001b[0m │\n",
       "├─────────────────────────────────┼────────────────────────┼───────────────┤\n",
       "│ dense_8 (\u001b[38;5;33mDense\u001b[0m)                 │ (\u001b[38;5;45mNone\u001b[0m, \u001b[38;5;34m14\u001b[0m, \u001b[38;5;34m16\u001b[0m)         │         \u001b[38;5;34m1,040\u001b[0m │\n",
       "├─────────────────────────────────┼────────────────────────┼───────────────┤\n",
       "│ max_pooling1d_4 (\u001b[38;5;33mMaxPooling1D\u001b[0m)  │ (\u001b[38;5;45mNone\u001b[0m, \u001b[38;5;34m7\u001b[0m, \u001b[38;5;34m16\u001b[0m)          │             \u001b[38;5;34m0\u001b[0m │\n",
       "├─────────────────────────────────┼────────────────────────┼───────────────┤\n",
       "│ flatten_4 (\u001b[38;5;33mFlatten\u001b[0m)             │ (\u001b[38;5;45mNone\u001b[0m, \u001b[38;5;34m112\u001b[0m)            │             \u001b[38;5;34m0\u001b[0m │\n",
       "├─────────────────────────────────┼────────────────────────┼───────────────┤\n",
       "│ dense_9 (\u001b[38;5;33mDense\u001b[0m)                 │ (\u001b[38;5;45mNone\u001b[0m, \u001b[38;5;34m15\u001b[0m)             │         \u001b[38;5;34m1,695\u001b[0m │\n",
       "└─────────────────────────────────┴────────────────────────┴───────────────┘\n"
      ]
     },
     "metadata": {},
     "output_type": "display_data"
    },
    {
     "data": {
      "text/html": [
       "<pre style=\"white-space:pre;overflow-x:auto;line-height:normal;font-family:Menlo,'DejaVu Sans Mono',consolas,'Courier New',monospace\"><span style=\"font-weight: bold\"> Total params: </span><span style=\"color: #00af00; text-decoration-color: #00af00\">3,951</span> (15.43 KB)\n",
       "</pre>\n"
      ],
      "text/plain": [
       "\u001b[1m Total params: \u001b[0m\u001b[38;5;34m3,951\u001b[0m (15.43 KB)\n"
      ]
     },
     "metadata": {},
     "output_type": "display_data"
    },
    {
     "data": {
      "text/html": [
       "<pre style=\"white-space:pre;overflow-x:auto;line-height:normal;font-family:Menlo,'DejaVu Sans Mono',consolas,'Courier New',monospace\"><span style=\"font-weight: bold\"> Trainable params: </span><span style=\"color: #00af00; text-decoration-color: #00af00\">3,951</span> (15.43 KB)\n",
       "</pre>\n"
      ],
      "text/plain": [
       "\u001b[1m Trainable params: \u001b[0m\u001b[38;5;34m3,951\u001b[0m (15.43 KB)\n"
      ]
     },
     "metadata": {},
     "output_type": "display_data"
    },
    {
     "data": {
      "text/html": [
       "<pre style=\"white-space:pre;overflow-x:auto;line-height:normal;font-family:Menlo,'DejaVu Sans Mono',consolas,'Courier New',monospace\"><span style=\"font-weight: bold\"> Non-trainable params: </span><span style=\"color: #00af00; text-decoration-color: #00af00\">0</span> (0.00 B)\n",
       "</pre>\n"
      ],
      "text/plain": [
       "\u001b[1m Non-trainable params: \u001b[0m\u001b[38;5;34m0\u001b[0m (0.00 B)\n"
      ]
     },
     "metadata": {},
     "output_type": "display_data"
    }
   ],
   "source": [
    "model.summary()"
   ]
  },
  {
   "cell_type": "code",
   "execution_count": 152,
   "id": "e33c12e9-d132-45c3-a40f-fb2d723346d4",
   "metadata": {},
   "outputs": [],
   "source": [
    "model.compile(loss='categorical_crossentropy', optimizer='adam', metrics=['accuracy'])"
   ]
  },
  {
   "cell_type": "code",
   "execution_count": 154,
   "id": "dae7516a-d201-4fa4-9e75-fa2d9429529c",
   "metadata": {},
   "outputs": [
    {
     "name": "stdout",
     "output_type": "stream",
     "text": [
      "Epoch 1/30\n",
      "1076/1076 - 14s - 13ms/step - accuracy: 0.6181 - loss: 7473.1250\n",
      "Epoch 2/30\n",
      "1076/1076 - 8s - 7ms/step - accuracy: 0.6436 - loss: 79615.6562\n",
      "Epoch 3/30\n",
      "1076/1076 - 9s - 9ms/step - accuracy: 0.6438 - loss: 276341.9688\n",
      "Epoch 4/30\n",
      "1076/1076 - 9s - 8ms/step - accuracy: 0.6439 - loss: 600801.6250\n",
      "Epoch 5/30\n",
      "1076/1076 - 11s - 10ms/step - accuracy: 0.6439 - loss: 1080887.8750\n",
      "Epoch 6/30\n",
      "1076/1076 - 11s - 10ms/step - accuracy: 0.6439 - loss: 1708916.5000\n",
      "Epoch 7/30\n",
      "1076/1076 - 10s - 9ms/step - accuracy: 0.6440 - loss: 2512762.2500\n",
      "Epoch 8/30\n",
      "1076/1076 - 10s - 9ms/step - accuracy: 0.6440 - loss: 3492421.0000\n",
      "Epoch 9/30\n",
      "1076/1076 - 10s - 9ms/step - accuracy: 0.6440 - loss: 4698262.5000\n",
      "Epoch 10/30\n",
      "1076/1076 - 9s - 9ms/step - accuracy: 0.6440 - loss: 6076169.0000\n",
      "Epoch 11/30\n",
      "1076/1076 - 10s - 9ms/step - accuracy: 0.6440 - loss: 7757760.0000\n",
      "Epoch 12/30\n",
      "1076/1076 - 12s - 11ms/step - accuracy: 0.6439 - loss: 9654584.0000\n",
      "Epoch 13/30\n",
      "1076/1076 - 8s - 8ms/step - accuracy: 0.6440 - loss: 11808758.0000\n",
      "Epoch 14/30\n",
      "1076/1076 - 11s - 10ms/step - accuracy: 0.6440 - loss: 14281733.0000\n",
      "Epoch 15/30\n",
      "1076/1076 - 11s - 10ms/step - accuracy: 0.6440 - loss: 16997162.0000\n",
      "Epoch 16/30\n",
      "1076/1076 - 9s - 9ms/step - accuracy: 0.6440 - loss: 20127426.0000\n",
      "Epoch 17/30\n",
      "1076/1076 - 11s - 10ms/step - accuracy: 0.6440 - loss: 23542932.0000\n",
      "Epoch 18/30\n",
      "1076/1076 - 10s - 9ms/step - accuracy: 0.6440 - loss: 27190990.0000\n",
      "Epoch 19/30\n",
      "1076/1076 - 8s - 8ms/step - accuracy: 0.6440 - loss: 31386816.0000\n",
      "Epoch 20/30\n",
      "1076/1076 - 13s - 12ms/step - accuracy: 0.6440 - loss: 35905920.0000\n",
      "Epoch 21/30\n",
      "1076/1076 - 9s - 8ms/step - accuracy: 0.6440 - loss: 40688436.0000\n",
      "Epoch 22/30\n",
      "1076/1076 - 10s - 9ms/step - accuracy: 0.6440 - loss: 46136636.0000\n",
      "Epoch 23/30\n",
      "1076/1076 - 12s - 11ms/step - accuracy: 0.6439 - loss: 51661720.0000\n",
      "Epoch 24/30\n",
      "1076/1076 - 8s - 8ms/step - accuracy: 0.6440 - loss: 57899848.0000\n",
      "Epoch 25/30\n",
      "1076/1076 - 10s - 10ms/step - accuracy: 0.6440 - loss: 64905616.0000\n",
      "Epoch 26/30\n",
      "1076/1076 - 9s - 9ms/step - accuracy: 0.6440 - loss: 71747280.0000\n",
      "Epoch 27/30\n",
      "1076/1076 - 11s - 10ms/step - accuracy: 0.6440 - loss: 79626944.0000\n",
      "Epoch 28/30\n",
      "1076/1076 - 10s - 10ms/step - accuracy: 0.6440 - loss: 87438976.0000\n",
      "Epoch 29/30\n",
      "1076/1076 - 8s - 8ms/step - accuracy: 0.6440 - loss: 96262424.0000\n",
      "Epoch 30/30\n",
      "1076/1076 - 10s - 10ms/step - accuracy: 0.6440 - loss: 105444248.0000\n"
     ]
    },
    {
     "data": {
      "text/plain": [
       "<keras.src.callbacks.history.History at 0x1748a25e090>"
      ]
     },
     "execution_count": 154,
     "metadata": {},
     "output_type": "execute_result"
    }
   ],
   "source": [
    "model.fit(X_train, y_train, batch_size=batch_size, epochs=epochs, verbose=2)"
   ]
  },
  {
   "cell_type": "code",
   "execution_count": 156,
   "id": "1b7c5173-d78f-4991-b4c4-ce2b543a3796",
   "metadata": {},
   "outputs": [],
   "source": [
    "def confusion_matrix(y_true, y_pred):\n",
    "    y_true = pd.Series([stations[y] for y in np.argmax(y_true, axis=1)])\n",
    "    y_pred = pd.Series([stations[y] for y in np.argmax(y_pred, axis=1)])\n",
    "\n",
    "    return pd.crosstab(y_true, y_pred, rownames=['True'], colnames=['Pred'])"
   ]
  },
  {
   "cell_type": "code",
   "execution_count": 158,
   "id": "f6cadf82-8fc3-41a1-b61b-b855bd1af059",
   "metadata": {},
   "outputs": [
    {
     "name": "stdout",
     "output_type": "stream",
     "text": [
      "\u001b[1m180/180\u001b[0m \u001b[32m━━━━━━━━━━━━━━━━━━━━\u001b[0m\u001b[37m\u001b[0m \u001b[1m1s\u001b[0m 5ms/step\n",
      "Pred        BASEL\n",
      "True             \n",
      "BASEL        3682\n",
      "BELGRADE     1092\n",
      "BUDAPEST      214\n",
      "DEBILT         82\n",
      "DUSSELDORF     29\n",
      "HEATHROW       82\n",
      "KASSEL         11\n",
      "LJUBLJANA      61\n",
      "MAASTRICHT      9\n",
      "MADRID        458\n",
      "MUNCHENB        8\n",
      "OSLO            5\n",
      "STOCKHOLM       4\n",
      "VALENTIA        1\n"
     ]
    }
   ],
   "source": [
    "# Evaluate\n",
    "\n",
    "print(confusion_matrix(y_test, model.predict(X_test)))"
   ]
  },
  {
   "cell_type": "code",
   "execution_count": 160,
   "id": "ccfb4ebf-0839-4c5d-a8a6-e27e84c7615f",
   "metadata": {},
   "outputs": [],
   "source": [
    "epochs = 15\n",
    "batch_size = 4\n",
    "n_hidden = 4\n",
    "\n",
    "timesteps = len(X_train[0])\n",
    "input_dim = len(X_train[0][0])\n",
    "n_classes = len(y_train[0])\n",
    "\n",
    "model = Sequential()\n",
    "model.add(Conv1D(n_hidden, kernel_size=2, activation='relu', input_shape=(timesteps, input_dim)))\n",
    "model.add(Dense(16, activation='relu'))\n",
    "model.add(MaxPooling1D())\n",
    "model.add(Flatten())\n",
    "model.add(Dense(n_classes, activation='relu')) # Options: sigmoid, tanh, softmax, relu"
   ]
  },
  {
   "cell_type": "code",
   "execution_count": 162,
   "id": "9d915030-7962-49d2-8ec9-88188fc23b15",
   "metadata": {},
   "outputs": [
    {
     "data": {
      "text/html": [
       "<pre style=\"white-space:pre;overflow-x:auto;line-height:normal;font-family:Menlo,'DejaVu Sans Mono',consolas,'Courier New',monospace\"><span style=\"font-weight: bold\">Model: \"sequential_5\"</span>\n",
       "</pre>\n"
      ],
      "text/plain": [
       "\u001b[1mModel: \"sequential_5\"\u001b[0m\n"
      ]
     },
     "metadata": {},
     "output_type": "display_data"
    },
    {
     "data": {
      "text/html": [
       "<pre style=\"white-space:pre;overflow-x:auto;line-height:normal;font-family:Menlo,'DejaVu Sans Mono',consolas,'Courier New',monospace\">┏━━━━━━━━━━━━━━━━━━━━━━━━━━━━━━━━━┳━━━━━━━━━━━━━━━━━━━━━━━━┳━━━━━━━━━━━━━━━┓\n",
       "┃<span style=\"font-weight: bold\"> Layer (type)                    </span>┃<span style=\"font-weight: bold\"> Output Shape           </span>┃<span style=\"font-weight: bold\">       Param # </span>┃\n",
       "┡━━━━━━━━━━━━━━━━━━━━━━━━━━━━━━━━━╇━━━━━━━━━━━━━━━━━━━━━━━━╇━━━━━━━━━━━━━━━┩\n",
       "│ conv1d_5 (<span style=\"color: #0087ff; text-decoration-color: #0087ff\">Conv1D</span>)               │ (<span style=\"color: #00d7ff; text-decoration-color: #00d7ff\">None</span>, <span style=\"color: #00af00; text-decoration-color: #00af00\">14</span>, <span style=\"color: #00af00; text-decoration-color: #00af00\">4</span>)          │            <span style=\"color: #00af00; text-decoration-color: #00af00\">76</span> │\n",
       "├─────────────────────────────────┼────────────────────────┼───────────────┤\n",
       "│ dense_10 (<span style=\"color: #0087ff; text-decoration-color: #0087ff\">Dense</span>)                │ (<span style=\"color: #00d7ff; text-decoration-color: #00d7ff\">None</span>, <span style=\"color: #00af00; text-decoration-color: #00af00\">14</span>, <span style=\"color: #00af00; text-decoration-color: #00af00\">16</span>)         │            <span style=\"color: #00af00; text-decoration-color: #00af00\">80</span> │\n",
       "├─────────────────────────────────┼────────────────────────┼───────────────┤\n",
       "│ max_pooling1d_5 (<span style=\"color: #0087ff; text-decoration-color: #0087ff\">MaxPooling1D</span>)  │ (<span style=\"color: #00d7ff; text-decoration-color: #00d7ff\">None</span>, <span style=\"color: #00af00; text-decoration-color: #00af00\">7</span>, <span style=\"color: #00af00; text-decoration-color: #00af00\">16</span>)          │             <span style=\"color: #00af00; text-decoration-color: #00af00\">0</span> │\n",
       "├─────────────────────────────────┼────────────────────────┼───────────────┤\n",
       "│ flatten_5 (<span style=\"color: #0087ff; text-decoration-color: #0087ff\">Flatten</span>)             │ (<span style=\"color: #00d7ff; text-decoration-color: #00d7ff\">None</span>, <span style=\"color: #00af00; text-decoration-color: #00af00\">112</span>)            │             <span style=\"color: #00af00; text-decoration-color: #00af00\">0</span> │\n",
       "├─────────────────────────────────┼────────────────────────┼───────────────┤\n",
       "│ dense_11 (<span style=\"color: #0087ff; text-decoration-color: #0087ff\">Dense</span>)                │ (<span style=\"color: #00d7ff; text-decoration-color: #00d7ff\">None</span>, <span style=\"color: #00af00; text-decoration-color: #00af00\">15</span>)             │         <span style=\"color: #00af00; text-decoration-color: #00af00\">1,695</span> │\n",
       "└─────────────────────────────────┴────────────────────────┴───────────────┘\n",
       "</pre>\n"
      ],
      "text/plain": [
       "┏━━━━━━━━━━━━━━━━━━━━━━━━━━━━━━━━━┳━━━━━━━━━━━━━━━━━━━━━━━━┳━━━━━━━━━━━━━━━┓\n",
       "┃\u001b[1m \u001b[0m\u001b[1mLayer (type)                   \u001b[0m\u001b[1m \u001b[0m┃\u001b[1m \u001b[0m\u001b[1mOutput Shape          \u001b[0m\u001b[1m \u001b[0m┃\u001b[1m \u001b[0m\u001b[1m      Param #\u001b[0m\u001b[1m \u001b[0m┃\n",
       "┡━━━━━━━━━━━━━━━━━━━━━━━━━━━━━━━━━╇━━━━━━━━━━━━━━━━━━━━━━━━╇━━━━━━━━━━━━━━━┩\n",
       "│ conv1d_5 (\u001b[38;5;33mConv1D\u001b[0m)               │ (\u001b[38;5;45mNone\u001b[0m, \u001b[38;5;34m14\u001b[0m, \u001b[38;5;34m4\u001b[0m)          │            \u001b[38;5;34m76\u001b[0m │\n",
       "├─────────────────────────────────┼────────────────────────┼───────────────┤\n",
       "│ dense_10 (\u001b[38;5;33mDense\u001b[0m)                │ (\u001b[38;5;45mNone\u001b[0m, \u001b[38;5;34m14\u001b[0m, \u001b[38;5;34m16\u001b[0m)         │            \u001b[38;5;34m80\u001b[0m │\n",
       "├─────────────────────────────────┼────────────────────────┼───────────────┤\n",
       "│ max_pooling1d_5 (\u001b[38;5;33mMaxPooling1D\u001b[0m)  │ (\u001b[38;5;45mNone\u001b[0m, \u001b[38;5;34m7\u001b[0m, \u001b[38;5;34m16\u001b[0m)          │             \u001b[38;5;34m0\u001b[0m │\n",
       "├─────────────────────────────────┼────────────────────────┼───────────────┤\n",
       "│ flatten_5 (\u001b[38;5;33mFlatten\u001b[0m)             │ (\u001b[38;5;45mNone\u001b[0m, \u001b[38;5;34m112\u001b[0m)            │             \u001b[38;5;34m0\u001b[0m │\n",
       "├─────────────────────────────────┼────────────────────────┼───────────────┤\n",
       "│ dense_11 (\u001b[38;5;33mDense\u001b[0m)                │ (\u001b[38;5;45mNone\u001b[0m, \u001b[38;5;34m15\u001b[0m)             │         \u001b[38;5;34m1,695\u001b[0m │\n",
       "└─────────────────────────────────┴────────────────────────┴───────────────┘\n"
      ]
     },
     "metadata": {},
     "output_type": "display_data"
    },
    {
     "data": {
      "text/html": [
       "<pre style=\"white-space:pre;overflow-x:auto;line-height:normal;font-family:Menlo,'DejaVu Sans Mono',consolas,'Courier New',monospace\"><span style=\"font-weight: bold\"> Total params: </span><span style=\"color: #00af00; text-decoration-color: #00af00\">1,851</span> (7.23 KB)\n",
       "</pre>\n"
      ],
      "text/plain": [
       "\u001b[1m Total params: \u001b[0m\u001b[38;5;34m1,851\u001b[0m (7.23 KB)\n"
      ]
     },
     "metadata": {},
     "output_type": "display_data"
    },
    {
     "data": {
      "text/html": [
       "<pre style=\"white-space:pre;overflow-x:auto;line-height:normal;font-family:Menlo,'DejaVu Sans Mono',consolas,'Courier New',monospace\"><span style=\"font-weight: bold\"> Trainable params: </span><span style=\"color: #00af00; text-decoration-color: #00af00\">1,851</span> (7.23 KB)\n",
       "</pre>\n"
      ],
      "text/plain": [
       "\u001b[1m Trainable params: \u001b[0m\u001b[38;5;34m1,851\u001b[0m (7.23 KB)\n"
      ]
     },
     "metadata": {},
     "output_type": "display_data"
    },
    {
     "data": {
      "text/html": [
       "<pre style=\"white-space:pre;overflow-x:auto;line-height:normal;font-family:Menlo,'DejaVu Sans Mono',consolas,'Courier New',monospace\"><span style=\"font-weight: bold\"> Non-trainable params: </span><span style=\"color: #00af00; text-decoration-color: #00af00\">0</span> (0.00 B)\n",
       "</pre>\n"
      ],
      "text/plain": [
       "\u001b[1m Non-trainable params: \u001b[0m\u001b[38;5;34m0\u001b[0m (0.00 B)\n"
      ]
     },
     "metadata": {},
     "output_type": "display_data"
    }
   ],
   "source": [
    "model.summary()"
   ]
  },
  {
   "cell_type": "code",
   "execution_count": 164,
   "id": "8acecd05-3ea3-4ce0-999d-f0d5c8640c85",
   "metadata": {},
   "outputs": [],
   "source": [
    "model.compile(loss='categorical_crossentropy', optimizer='adam', metrics=['accuracy'])"
   ]
  },
  {
   "cell_type": "code",
   "execution_count": 166,
   "id": "1aefe0f6-0634-43c7-8c72-0af433c5d52e",
   "metadata": {},
   "outputs": [
    {
     "name": "stdout",
     "output_type": "stream",
     "text": [
      "Epoch 1/15\n",
      "4303/4303 - 34s - 8ms/step - accuracy: 0.4771 - loss: nan\n",
      "Epoch 2/15\n",
      "4303/4303 - 29s - 7ms/step - accuracy: 0.6440 - loss: nan\n",
      "Epoch 3/15\n",
      "4303/4303 - 29s - 7ms/step - accuracy: 0.6440 - loss: nan\n",
      "Epoch 4/15\n",
      "4303/4303 - 27s - 6ms/step - accuracy: 0.6440 - loss: nan\n",
      "Epoch 5/15\n",
      "4303/4303 - 27s - 6ms/step - accuracy: 0.6440 - loss: nan\n",
      "Epoch 6/15\n",
      "4303/4303 - 26s - 6ms/step - accuracy: 0.6440 - loss: nan\n",
      "Epoch 7/15\n",
      "4303/4303 - 31s - 7ms/step - accuracy: 0.6440 - loss: nan\n",
      "Epoch 8/15\n",
      "4303/4303 - 32s - 7ms/step - accuracy: 0.6440 - loss: nan\n",
      "Epoch 9/15\n",
      "4303/4303 - 35s - 8ms/step - accuracy: 0.6440 - loss: nan\n",
      "Epoch 10/15\n",
      "4303/4303 - 39s - 9ms/step - accuracy: 0.6440 - loss: nan\n",
      "Epoch 11/15\n",
      "4303/4303 - 33s - 8ms/step - accuracy: 0.6440 - loss: nan\n",
      "Epoch 12/15\n",
      "4303/4303 - 31s - 7ms/step - accuracy: 0.6440 - loss: nan\n",
      "Epoch 13/15\n",
      "4303/4303 - 32s - 7ms/step - accuracy: 0.6440 - loss: nan\n",
      "Epoch 14/15\n",
      "4303/4303 - 35s - 8ms/step - accuracy: 0.6440 - loss: nan\n",
      "Epoch 15/15\n",
      "4303/4303 - 33s - 8ms/step - accuracy: 0.6440 - loss: nan\n"
     ]
    },
    {
     "data": {
      "text/plain": [
       "<keras.src.callbacks.history.History at 0x17489fd7860>"
      ]
     },
     "execution_count": 166,
     "metadata": {},
     "output_type": "execute_result"
    }
   ],
   "source": [
    "model.fit(X_train, y_train, batch_size=batch_size, epochs=epochs, verbose=2)"
   ]
  },
  {
   "cell_type": "code",
   "execution_count": 168,
   "id": "207ea09f-c3d4-43ad-9fef-0090acebda42",
   "metadata": {},
   "outputs": [],
   "source": [
    "def confusion_matrix(y_true, y_pred):\n",
    "    y_true = pd.Series([stations[y] for y in np.argmax(y_true, axis=1)])\n",
    "    y_pred = pd.Series([stations[y] for y in np.argmax(y_pred, axis=1)])\n",
    "\n",
    "    return pd.crosstab(y_true, y_pred, rownames=['True'], colnames=['Pred'])"
   ]
  },
  {
   "cell_type": "code",
   "execution_count": 170,
   "id": "df6386ac-5f63-45fd-8142-1bbe3994f020",
   "metadata": {},
   "outputs": [
    {
     "name": "stdout",
     "output_type": "stream",
     "text": [
      "\u001b[1m180/180\u001b[0m \u001b[32m━━━━━━━━━━━━━━━━━━━━\u001b[0m\u001b[37m\u001b[0m \u001b[1m2s\u001b[0m 8ms/step\n",
      "Pred        BASEL\n",
      "True             \n",
      "BASEL        3682\n",
      "BELGRADE     1092\n",
      "BUDAPEST      214\n",
      "DEBILT         82\n",
      "DUSSELDORF     29\n",
      "HEATHROW       82\n",
      "KASSEL         11\n",
      "LJUBLJANA      61\n",
      "MAASTRICHT      9\n",
      "MADRID        458\n",
      "MUNCHENB        8\n",
      "OSLO            5\n",
      "STOCKHOLM       4\n",
      "VALENTIA        1\n"
     ]
    }
   ],
   "source": [
    "print(confusion_matrix(y_test, model.predict(X_test)))"
   ]
  }
 ],
 "metadata": {
  "kernelspec": {
   "display_name": "Python [conda env:base] *",
   "language": "python",
   "name": "conda-base-py"
  },
  "language_info": {
   "codemirror_mode": {
    "name": "ipython",
    "version": 3
   },
   "file_extension": ".py",
   "mimetype": "text/x-python",
   "name": "python",
   "nbconvert_exporter": "python",
   "pygments_lexer": "ipython3",
   "version": "3.12.7"
  }
 },
 "nbformat": 4,
 "nbformat_minor": 5
}
